{
 "cells": [
  {
   "cell_type": "markdown",
   "metadata": {},
   "source": [
    "---\n",
    "title: \"Attri-VAE for Interpretable Prediction of Myocardial Infarction Complications\"\n",
    "authors:\n",
    "  - name: \"Mithun Manivannan\"\n",
    "  - course: DATASCI 3ML3 Final Project\n",
    "    affiliation: \"Department of Physics and Astronomy, McMaster University\"\n",
    "    email: \"manivanm@mcmaster.ca\"\n",
    "    orcid: \"0009-0006-2277-2687\"  \n",
    "\n",
    "date: \"April 23, 2025\"\n",
    "---"
   ]
  },
  {
   "cell_type": "code",
   "execution_count": null,
   "metadata": {},
   "outputs": [],
   "source": [
    "#!pip install torch numpy pandas matplotlib seaborn scikit-learn tensorboard\n"
   ]
  },
  {
   "cell_type": "markdown",
   "metadata": {},
   "source": [
    "## Dataset\n",
    "We use the Myocardial Infarction Complications dataset from the UCI Machine Learning Repository. The dataset includes 4,876 patients with 138 features, covering demographics, laboratory measurements, vital signs, medical history, medication use, and in-hospital complications.\n",
    "\n",
    "## Notebook Structure\n",
    "1. **Data Loading and Preprocessing**\n",
    "   - Feature standardization\n",
    "   - Handling missing values\n",
    "   - Feature grouping for sparsity regularization\n",
    "\n",
    "2. **Model Implementation**\n",
    "   - VAE architecture with encoder and decoder networks\n",
    "   - Group sparsity regularization mechanism\n",
    "   - Missing data handling approach\n",
    "\n",
    "3. **Training and Evaluation**\n",
    "   - Training loop with annealing schedules\n",
    "   - TensorBoard integration\n",
    "   - Model evaluation metrics\n",
    "\n",
    "4. **Results and Visualization**\n",
    "   - t-SNE visualization of latent space\n",
    "   - Group sparsity pattern visualization\n",
    "   - Correlation analysis with clinical variables\n",
    "   - Comparative evaluation with baseline methods\n",
    "\n",
    "## Running the Notebook\n",
    "- Execute cells sequentially from top to bottom\n",
    "- TensorBoard logs are saved to './logs/' directory and can be viewed with:\n",
    "  ```\n",
    "  tensorboard --logdir=./logs/\n",
    "  ```\n",
    "- Training may take several hours depending on hardware\n",
    "\n",
    "## Key Innovations\n",
    "- Integration of group sparsity regularization for interpretable latent representations\n",
    "- Handling of missing values common in clinical datasets\n",
    "- Demonstration of unsupervised learning for medical data analysis\n",
    "\n",
    "This project demonstrates the application of neural network concepts covered in DATASCI 3ML3 to a challenging healthcare problem, emphasizing interpretability in deep learning models."
   ]
  },
  {
   "cell_type": "code",
   "execution_count": 2,
   "metadata": {},
   "outputs": [
    {
     "name": "stdout",
     "output_type": "stream",
     "text": [
      "Using device: cpu\n"
     ]
    }
   ],
   "source": [
    "import torch\n",
    "import torch.nn as nn\n",
    "import torch.nn.functional as F\n",
    "import torch.optim as optim\n",
    "from torch.utils.data import Dataset, DataLoader, TensorDataset\n",
    "from torch.optim.lr_scheduler import ReduceLROnPlateau\n",
    "\n",
    "import numpy as np\n",
    "import pandas as pd\n",
    "import matplotlib.pyplot as plt\n",
    "import seaborn as sns\n",
    "from sklearn.preprocessing import StandardScaler\n",
    "from sklearn.model_selection import train_test_split\n",
    "from sklearn.metrics import roc_auc_score, average_precision_score, confusion_matrix\n",
    "from sklearn.manifold import TSNE\n",
    "from ucimlrepo import fetch_ucirepo\n",
    "\n",
    "import os\n",
    "import json\n",
    "from pathlib import Path\n",
    "from datetime import datetime\n",
    "import logging\n",
    "from tqdm.notebook import tqdm\n",
    "import random\n",
    "from collections import defaultdict\n",
    "import copy\n",
    "\n",
    "# Set up logging\n",
    "logging.basicConfig(level=logging.INFO, format='%(asctime)s - %(levelname)s - %(message)s')\n",
    "logger = logging.getLogger()\n",
    "\n",
    "# Set random seed for reproducibility\n",
    "def set_seed(seed=42):\n",
    "    random.seed(seed)\n",
    "    np.random.seed(seed)\n",
    "    torch.manual_seed(seed)\n",
    "    if torch.cuda.is_available():\n",
    "        torch.cuda.manual_seed(seed)\n",
    "        torch.cuda.manual_seed_all(seed)\n",
    "        torch.backends.cudnn.deterministic = True\n",
    "        torch.backends.cudnn.benchmark = False\n",
    "\n",
    "set_seed(42)\n",
    "\n",
    "# Device configuration\n",
    "device = torch.device('cuda' if torch.cuda.is_available() else 'cpu')\n",
    "print(f\"Using device: {device}\")"
   ]
  },
  {
   "cell_type": "code",
   "execution_count": 3,
   "metadata": {},
   "outputs": [
    {
     "name": "stdout",
     "output_type": "stream",
     "text": [
      "Loading MI Complications dataset from UCI repository...\n",
      "Dataset shape: (1700, 111)\n",
      "Number of samples: 1700\n",
      "Number of complications: 12\n",
      "Positive samples (with complications): 1037 (61.00%)\n",
      "Timepoint admission: 3 features\n",
      "Timepoint 24h: 0 features\n",
      "Timepoint 48h: 0 features\n",
      "Timepoint 72h: 0 features\n",
      "Selected 6 clinical attributes: ['AGE', 'S_AD_ORIT', 'D_AD_ORIT', 'K_BLOOD', 'L_BLOOD', 'TIME_B_S']\n",
      "Timepoint admission: 2.63% missing values\n",
      "Data preprocessing completed successfully.\n",
      "Creating train/val/test splits...\n",
      "Train set: 1190 samples (61.01% positive)\n",
      "Validation set: 340 samples (60.88% positive)\n",
      "Test set: 170 samples (61.18% positive)\n",
      "Data loaders created successfully.\n",
      "Input dimensions: [3]\n",
      "Attribute dimensions: {'AGE': 0, 'S_AD_ORIT': 1, 'D_AD_ORIT': 2, 'K_BLOOD': 3, 'L_BLOOD': 4, 'TIME_B_S': 5}\n"
     ]
    }
   ],
   "source": [
    "class MIDataset(Dataset):\n",
    "    \"\"\"\n",
    "    Custom dataset for MI complications data with temporal structure\n",
    "    \"\"\"\n",
    "    def __init__(\n",
    "        self,\n",
    "        X_timepoints,\n",
    "        y,\n",
    "        attributes,\n",
    "        transform=None,\n",
    "        target_transform=None\n",
    "    ):\n",
    "        \"\"\"\n",
    "        Initialize dataset\n",
    "        \n",
    "        Args:\n",
    "            X_timepoints: Dictionary of feature dataframes for each timepoint\n",
    "            y: Target array\n",
    "            attributes: Clinical attributes for regularization\n",
    "            transform: Optional transform to be applied to features\n",
    "            target_transform: Optional transform to be applied to targets\n",
    "        \"\"\"\n",
    "        self.X_timepoints = X_timepoints\n",
    "        self.y = y\n",
    "        self.attributes = attributes\n",
    "        self.transform = transform\n",
    "        self.target_transform = target_transform\n",
    "        \n",
    "        # Convert to tensors\n",
    "        self.X_tensors = {\n",
    "            tp: torch.FloatTensor(X.values) \n",
    "            for tp, X in X_timepoints.items()\n",
    "        }\n",
    "        self.y_tensor = torch.FloatTensor(y.values)\n",
    "        self.attributes_tensor = torch.FloatTensor(attributes.values)\n",
    "        \n",
    "    def __len__(self):\n",
    "        return len(self.y)\n",
    "    \n",
    "    def __getitem__(self, idx):\n",
    "        # Get features for each timepoint\n",
    "        x_list = [self.X_tensors[tp][idx] for tp in sorted(self.X_tensors.keys())]\n",
    "        \n",
    "        # Get target and attributes\n",
    "        y = self.y_tensor[idx]\n",
    "        attributes = self.attributes_tensor[idx]\n",
    "        \n",
    "        # Apply transforms if specified\n",
    "        if self.transform:\n",
    "            x_list = [self.transform(x) for x in x_list]\n",
    "        if self.target_transform:\n",
    "            y = self.target_transform(y)\n",
    "        \n",
    "        return x_list, y, attributes\n",
    "\n",
    "def load_mi_data():\n",
    "    \"\"\"\n",
    "    Load and preprocess MI complications dataset\n",
    "    \n",
    "    Returns:\n",
    "        X_timepoints: Dictionary of feature dataframes for each timepoint\n",
    "        y: Target array\n",
    "        attributes: Clinical attributes for regularization\n",
    "    \"\"\"\n",
    "    print(\"Loading MI Complications dataset from UCI repository...\")\n",
    "    # Fetch the UCI MI complications dataset\n",
    "    mi = fetch_ucirepo(id=579)\n",
    "    X_full = mi.data.features\n",
    "    y_full = mi.data.targets\n",
    "    \n",
    "    # Print dataset information\n",
    "    print(f\"Dataset shape: {X_full.shape}\")\n",
    "    print(f\"Number of samples: {len(X_full)}\")\n",
    "    print(f\"Number of complications: {y_full.shape[1]}\")\n",
    "    \n",
    "    # Checking if dataset is loaded properly\n",
    "    if X_full is None or X_full.empty:\n",
    "        raise ValueError(\"Failed to load features from UCI MI complications dataset\")\n",
    "    \n",
    "    # Create any-complication binary target\n",
    "    y = pd.Series((y_full.sum(axis=1) > 0).astype(int))\n",
    "    print(f\"Positive samples (with complications): {y.sum()} ({y.mean()*100:.2f}%)\")\n",
    "    \n",
    "    # Define timepoints and their corresponding features\n",
    "    timepoints = {\n",
    "        'admission': [col for col in X_full.columns if '_ADM' in col or col in ['AGE', 'SEX', 'TIME_B_S']],\n",
    "        '24h': [col for col in X_full.columns if '_24_' in col or '_24H' in col],\n",
    "        '48h': [col for col in X_full.columns if '_48_' in col or '_48H' in col],\n",
    "        '72h': [col for col in X_full.columns if '_72_' in col or '_72H' in col]\n",
    "    }\n",
    "    \n",
    "    # Print timepoint information\n",
    "    for tp, cols in timepoints.items():\n",
    "        print(f\"Timepoint {tp}: {len(cols)} features\")\n",
    "    \n",
    "    # Create feature sets for each timepoint\n",
    "    X_timepoints = {}\n",
    "    for tp, cols in timepoints.items():\n",
    "        if cols:  # Only process if we have columns for this timepoint\n",
    "            X_tp = X_full[cols].copy()\n",
    "            X_timepoints[tp] = X_tp\n",
    "    \n",
    "    # Select clinical attributes for regularization\n",
    "    # These should be features that are clinically meaningful\n",
    "    attribute_cols = [\n",
    "        'AGE',\n",
    "        'S_AD_ORIT',\n",
    "        'D_AD_ORIT',\n",
    "        'K_BLOOD',\n",
    "        'L_BLOOD',\n",
    "        'TIME_B_S'\n",
    "    ]\n",
    "    \n",
    "    # Filter to only include columns that exist in the dataset\n",
    "    attribute_cols = [col for col in attribute_cols if col in X_full.columns]\n",
    "    attributes = X_full[attribute_cols].copy()\n",
    "    print(f\"Selected {len(attribute_cols)} clinical attributes: {attribute_cols}\")\n",
    "    \n",
    "    # Handle missing values\n",
    "    for tp, X in X_timepoints.items():\n",
    "        # Check if any columns are fully NaN\n",
    "        empty_cols = X.columns[X.isna().all()].tolist()\n",
    "        if empty_cols:\n",
    "            print(f\"Warning: Dropping columns with all NaN values in {tp}: {empty_cols}\")\n",
    "            X.drop(columns=empty_cols, inplace=True)\n",
    "            \n",
    "        # Calculate percentage of missing values\n",
    "        missing_pct = X.isna().mean().mean() * 100\n",
    "        print(f\"Timepoint {tp}: {missing_pct:.2f}% missing values\")\n",
    "        \n",
    "        # Now fill remaining NaNs with column means\n",
    "        X.fillna(X.mean(), inplace=True)\n",
    "    \n",
    "    attributes.fillna(attributes.mean(), inplace=True)\n",
    "    \n",
    "    # Scale features\n",
    "    scalers = {}\n",
    "    for tp, X in X_timepoints.items():\n",
    "        if not X.empty:  # Only scale if we have data\n",
    "            scaler = StandardScaler()\n",
    "            X_timepoints[tp] = pd.DataFrame(\n",
    "                scaler.fit_transform(X),\n",
    "                columns=X.columns,\n",
    "                index=X.index\n",
    "            )\n",
    "            scalers[tp] = scaler\n",
    "    \n",
    "    # Scale attributes\n",
    "    if not attributes.empty:\n",
    "        attr_scaler = StandardScaler()\n",
    "        attributes = pd.DataFrame(\n",
    "            attr_scaler.fit_transform(attributes),\n",
    "            columns=attributes.columns,\n",
    "            index=attributes.index\n",
    "        )\n",
    "    \n",
    "    print(\"Data preprocessing completed successfully.\")\n",
    "    return X_timepoints, y, attributes\n",
    "\n",
    "def create_data_loaders(\n",
    "    X_timepoints,\n",
    "    y,\n",
    "    attributes,\n",
    "    batch_size=32,\n",
    "    val_size=0.2,\n",
    "    test_size=0.1,\n",
    "    random_state=42\n",
    "):\n",
    "    \"\"\"\n",
    "    Create train, validation, and test data loaders\n",
    "    \n",
    "    Args:\n",
    "        X_timepoints: Dictionary of feature dataframes for each timepoint\n",
    "        y: Target array\n",
    "        attributes: Clinical attributes for regularization\n",
    "        batch_size: Batch size for data loaders\n",
    "        val_size: Proportion of data to use for validation\n",
    "        test_size: Proportion of data to use for testing\n",
    "        random_state: Random seed for reproducibility\n",
    "        \n",
    "    Returns:\n",
    "        train_loader: DataLoader for training data\n",
    "        val_loader: DataLoader for validation data\n",
    "        test_loader: DataLoader for test data\n",
    "    \"\"\"\n",
    "    print(\"Creating train/val/test splits...\")\n",
    "    # First split into train+val and test\n",
    "    train_val_idx, test_idx = train_test_split(\n",
    "        np.arange(len(y)),\n",
    "        test_size=test_size,\n",
    "        random_state=random_state,\n",
    "        stratify=y\n",
    "    )\n",
    "    \n",
    "    # Then split train+val into train and val\n",
    "    train_idx, val_idx = train_test_split(\n",
    "        train_val_idx,\n",
    "        test_size=val_size/(1-test_size),\n",
    "        random_state=random_state,\n",
    "        stratify=y.iloc[train_val_idx]\n",
    "    )\n",
    "    \n",
    "    print(f\"Train set: {len(train_idx)} samples ({y.iloc[train_idx].mean()*100:.2f}% positive)\")\n",
    "    print(f\"Validation set: {len(val_idx)} samples ({y.iloc[val_idx].mean()*100:.2f}% positive)\")\n",
    "    print(f\"Test set: {len(test_idx)} samples ({y.iloc[test_idx].mean()*100:.2f}% positive)\")\n",
    "    \n",
    "    # Create datasets\n",
    "    train_dataset = MIDataset(\n",
    "        {tp: X.iloc[train_idx] for tp, X in X_timepoints.items()},\n",
    "        y.iloc[train_idx],\n",
    "        attributes.iloc[train_idx]\n",
    "    )\n",
    "    \n",
    "    val_dataset = MIDataset(\n",
    "        {tp: X.iloc[val_idx] for tp, X in X_timepoints.items()},\n",
    "        y.iloc[val_idx],\n",
    "        attributes.iloc[val_idx]\n",
    "    )\n",
    "    \n",
    "    test_dataset = MIDataset(\n",
    "        {tp: X.iloc[test_idx] for tp, X in X_timepoints.items()},\n",
    "        y.iloc[test_idx],\n",
    "        attributes.iloc[test_idx]\n",
    "    )\n",
    "    \n",
    "    # Create data loaders with num_workers=0 to avoid multiprocessing issues in Jupyter\n",
    "    train_loader = DataLoader(\n",
    "        train_dataset,\n",
    "        batch_size=batch_size,\n",
    "        shuffle=True,\n",
    "        num_workers=0  # Changed from 4 to 0\n",
    "    )\n",
    "    \n",
    "    val_loader = DataLoader(\n",
    "        val_dataset,\n",
    "        batch_size=batch_size,\n",
    "        shuffle=False,\n",
    "        num_workers=0  # Changed from 4 to 0\n",
    "    )\n",
    "    \n",
    "    test_loader = DataLoader(\n",
    "        test_dataset,\n",
    "        batch_size=batch_size,\n",
    "        shuffle=False,\n",
    "        num_workers=0  # Changed from 4 to 0\n",
    "    )\n",
    "    \n",
    "    print(\"Data loaders created successfully.\")\n",
    "    return train_loader, val_loader, test_loader\n",
    "\n",
    "# Load and prepare data\n",
    "X_timepoints, y, attributes = load_mi_data()\n",
    "train_loader, val_loader, test_loader = create_data_loaders(X_timepoints, y, attributes)\n",
    "\n",
    "# Extract feature dimensions for model configuration\n",
    "input_dims = [X.shape[1] for X in X_timepoints.values()]\n",
    "attribute_dims = {attr: i for i, attr in enumerate(attributes.columns)}\n",
    "print(f\"Input dimensions: {input_dims}\")\n",
    "print(f\"Attribute dimensions: {attribute_dims}\")"
   ]
  },
  {
   "cell_type": "code",
   "execution_count": 4,
   "metadata": {},
   "outputs": [],
   "source": [
    "class MedicalSafetyLayer(nn.Module):\n",
    "    \"\"\"\n",
    "    Layer to enforce physiological ranges for outputs\n",
    "    \"\"\"\n",
    "    def __init__(self, feature_ranges=None):\n",
    "        \"\"\"\n",
    "        Initialize layer with physiological ranges\n",
    "        \n",
    "        Args:\n",
    "            feature_ranges: Dictionary mapping feature names to (min, max) range tuples\n",
    "        \"\"\"\n",
    "        super(MedicalSafetyLayer, self).__init__()\n",
    "        self.feature_ranges = feature_ranges or {\n",
    "            # Systolic BP (mmHg)\n",
    "            'S_AD': (80, 180),\n",
    "            # Diastolic BP (mmHg)\n",
    "            'D_AD': (40, 120),\n",
    "            # Heart rate (bpm)\n",
    "            'RATE_AD': (40, 180),\n",
    "            # Body temperature (°C)\n",
    "            'TEMP_AD': (35, 41),\n",
    "            # Potassium (mmol/L)\n",
    "            'K_BLOOD': (3.0, 6.0),\n",
    "            # Sodium (mmol/L)\n",
    "            'Na_BLOOD': (130, 150),\n",
    "            # White blood cells (10^9/L)\n",
    "            'L_BLOOD': (4.0, 25.0)\n",
    "        }\n",
    "        \n",
    "    def forward(self, x, feature_names=None):\n",
    "        \"\"\"\n",
    "        Apply safety constraints to outputs\n",
    "        \n",
    "        Args:\n",
    "            x: Input tensor\n",
    "            feature_names: List of feature names corresponding to dimensions\n",
    "            \n",
    "        Returns:\n",
    "            x_safe: Output tensor with values within safe ranges\n",
    "            safety_loss: Loss penalizing values outside physiological ranges\n",
    "        \"\"\"\n",
    "        # If feature names not provided, return unchanged\n",
    "        if feature_names is None:\n",
    "            return x, None\n",
    "        \n",
    "        # Initialize loss\n",
    "        safety_loss = 0.0\n",
    "        \n",
    "        # Apply safety constraints\n",
    "        for i, name in enumerate(feature_names):\n",
    "            for key, (min_val, max_val) in self.feature_ranges.items():\n",
    "                if key in name:\n",
    "                    # Calculate penalty for out-of-range values\n",
    "                    below_min = F.relu(min_val - x[:, i])\n",
    "                    above_max = F.relu(x[:, i] - max_val)\n",
    "                    penalty = below_min + above_max\n",
    "                    safety_loss += torch.mean(penalty)\n",
    "        \n",
    "        return x, safety_loss\n",
    "\n",
    "class GroupLatentToTimepoint(nn.Module):\n",
    "    \"\"\"\n",
    "    Group-sparse latent-to-timepoint transformation as in oi-VAE\n",
    "    \"\"\"\n",
    "    def __init__(self, latent_dim, hidden_dim, timepoints):\n",
    "        super(GroupLatentToTimepoint, self).__init__()\n",
    "        self.latent_dim = latent_dim\n",
    "        self.hidden_dim = hidden_dim\n",
    "        self.timepoints = timepoints\n",
    "        \n",
    "        # Group-specific latent-to-timepoint matrices (one per timepoint)\n",
    "        # These will be subject to group sparsity regularization\n",
    "        self.W = nn.ParameterDict({\n",
    "            tp: nn.Parameter(torch.randn(hidden_dim, latent_dim) * 0.01)\n",
    "            for tp in timepoints\n",
    "        })\n",
    "    \n",
    "    def forward(self, z):\n",
    "        \"\"\"\n",
    "        Transform latent vector with group-specific matrices\n",
    "        \n",
    "        Args:\n",
    "            z: Latent vector [batch_size, latent_dim]\n",
    "            \n",
    "        Returns:\n",
    "            outputs: Dictionary of timepoint-specific transformed vectors\n",
    "        \"\"\"\n",
    "        outputs = {}\n",
    "        for tp in self.timepoints:\n",
    "            # Apply group-specific transformation\n",
    "            outputs[tp] = F.linear(z, self.W[tp])\n",
    "        return outputs\n",
    "    \n",
    "    def get_group_norms(self):\n",
    "        \"\"\"\n",
    "        Compute the L2 norm of each column in each group matrix\n",
    "        Used for proximal gradient updates and visualization\n",
    "        \n",
    "        Returns:\n",
    "            Dictionary of norms per timepoint and latent dimension\n",
    "        \"\"\"\n",
    "        norms = {}\n",
    "        for tp in self.timepoints:\n",
    "            # Compute column-wise L2 norms: [latent_dim]\n",
    "            norms[tp] = torch.norm(self.W[tp], dim=0)\n",
    "        return norms\n",
    "    \n",
    "    def apply_proximal_update(self, lr, lambda_reg):\n",
    "        \"\"\"\n",
    "        Apply proximal gradient update for group sparsity\n",
    "        \n",
    "        Args:\n",
    "            lr: Learning rate\n",
    "            lambda_reg: Regularization strength\n",
    "        \"\"\"\n",
    "        with torch.no_grad():\n",
    "            for tp in self.timepoints:\n",
    "                # Compute column-wise L2 norms\n",
    "                norms = torch.norm(self.W[tp], dim=0, keepdim=True)\n",
    "                \n",
    "                # Apply proximal operator: shrink columns toward zero\n",
    "                # max(0, 1 - lambda*lr/norm) * w\n",
    "                scale = torch.clamp(1 - lambda_reg * lr / (norms + 1e-8), min=0.0)\n",
    "                self.W[tp].mul_(scale)\n",
    "\n",
    "class GroupInterpretableVAE(nn.Module):\n",
    "    \"\"\"\n",
    "    Group-structured interpretable VAE for MI complications prediction with attribute regularization\n",
    "    \"\"\"\n",
    "    def __init__(\n",
    "        self,\n",
    "        input_dims,\n",
    "        timepoint_names,\n",
    "        latent_dim=32,\n",
    "        embed_dim=16,\n",
    "        hidden_dim=64,\n",
    "        attribute_dims=None,\n",
    "        medical_safety=True\n",
    "    ):\n",
    "        \"\"\"\n",
    "        Initialize model\n",
    "        \n",
    "        Args:\n",
    "            input_dims: List of input dimensions for each timepoint\n",
    "            timepoint_names: List of timepoint names (e.g., 'admission', '24h')\n",
    "            latent_dim: Dimension of the latent space\n",
    "            embed_dim: Dimension of time embeddings\n",
    "            hidden_dim: Dimension of hidden layers\n",
    "            attribute_dims: Dictionary mapping attribute name to latent dimension index\n",
    "            medical_safety: Whether to enforce medical safety constraints\n",
    "        \"\"\"\n",
    "        super(GroupInterpretableVAE, self).__init__()\n",
    "        \n",
    "        self.input_dims = input_dims if isinstance(input_dims, list) else list(input_dims)\n",
    "        self.timepoint_names = timepoint_names\n",
    "        self.latent_dim = latent_dim\n",
    "        self.embed_dim = embed_dim\n",
    "        self.hidden_dim = hidden_dim\n",
    "        self.attribute_dims = attribute_dims or {}\n",
    "        self.medical_safety = medical_safety\n",
    "        \n",
    "        # Time embeddings (one for each timepoint)\n",
    "        self.time_embeddings = nn.Embedding(len(input_dims), embed_dim)\n",
    "        \n",
    "        # Encoders for each timepoint\n",
    "        self.encoders = nn.ModuleList([\n",
    "            nn.Sequential(\n",
    "                nn.Linear(dim + embed_dim, hidden_dim),\n",
    "                nn.BatchNorm1d(hidden_dim),\n",
    "                nn.ReLU(),\n",
    "                nn.Linear(hidden_dim, hidden_dim // 2),\n",
    "                nn.BatchNorm1d(hidden_dim // 2),\n",
    "                nn.ReLU()\n",
    "            ) for dim in input_dims\n",
    "        ])\n",
    "        \n",
    "        # Latent projectors (mu and logvar)\n",
    "        encoder_output_dim = (hidden_dim // 2) * len(input_dims)\n",
    "        self.mu_projector = nn.Linear(encoder_output_dim, latent_dim)\n",
    "        self.logvar_projector = nn.Linear(encoder_output_dim, latent_dim)\n",
    "        \n",
    "        # Group-specific latent-to-timepoint transformation with sparsity\n",
    "        self.group_transform = GroupLatentToTimepoint(latent_dim, hidden_dim, timepoint_names)\n",
    "        \n",
    "        # Integration module\n",
    "        self.integration = nn.Sequential(\n",
    "            nn.Linear(latent_dim, latent_dim),\n",
    "            nn.BatchNorm1d(latent_dim),\n",
    "            nn.ReLU()\n",
    "        )\n",
    "        \n",
    "        # Attribute predictor for regularization\n",
    "        self.attribute_predictor = nn.Linear(latent_dim, len(attribute_dims))\n",
    "        \n",
    "        # Classifier for complications prediction\n",
    "        self.classifier = nn.Sequential(\n",
    "            nn.Linear(latent_dim, hidden_dim // 2),\n",
    "            nn.BatchNorm1d(hidden_dim // 2),\n",
    "            nn.ReLU(),\n",
    "            nn.Dropout(0.2),\n",
    "            nn.Linear(hidden_dim // 2, hidden_dim // 4),\n",
    "            nn.BatchNorm1d(hidden_dim // 4),\n",
    "            nn.ReLU(),\n",
    "            nn.Dropout(0.2),\n",
    "            nn.Linear(hidden_dim // 4, 1)\n",
    "        )\n",
    "        \n",
    "        # Decoders for each timepoint\n",
    "        self.decoders = nn.ModuleDict({\n",
    "            tp: nn.Sequential(\n",
    "                nn.Linear(hidden_dim + embed_dim, hidden_dim),\n",
    "                nn.BatchNorm1d(hidden_dim),\n",
    "                nn.ReLU(),\n",
    "                nn.Linear(hidden_dim, dim)\n",
    "            ) for tp, dim in zip(timepoint_names, input_dims)\n",
    "        })\n",
    "        \n",
    "        # Medical safety layer\n",
    "        if medical_safety:\n",
    "            self.safety_layer = MedicalSafetyLayer()\n",
    "        \n",
    "        # Loss functions\n",
    "        self.mse_loss = nn.MSELoss(reduction='mean')\n",
    "        self.bce_loss = nn.BCEWithLogitsLoss(reduction='mean')\n",
    "    \n",
    "    def encode(self, x_list, attributes=None):\n",
    "        \"\"\"\n",
    "        Encode a list of inputs from different timepoints\n",
    "        \n",
    "        Args:\n",
    "            x_list: List of input tensors\n",
    "            attributes: Clinical attributes tensor\n",
    "            \n",
    "        Returns:\n",
    "            mu: Mean vector\n",
    "            logvar: Log variance vector\n",
    "        \"\"\"\n",
    "        batch_size = x_list[0].size(0)\n",
    "        encodings = []\n",
    "        \n",
    "        # Generate time embeddings\n",
    "        time_indices = torch.arange(len(self.encoders), device=x_list[0].device)\n",
    "        time_embeds = self.time_embeddings(time_indices)\n",
    "        \n",
    "        # Encode each timepoint with its time embedding\n",
    "        for i, (x, encoder) in enumerate(zip(x_list, self.encoders)):\n",
    "            # Add time embedding to input\n",
    "            time_embed = time_embeds[i].expand(batch_size, -1)\n",
    "            x_t = torch.cat([x, time_embed], dim=1)\n",
    "            \n",
    "            # Encode\n",
    "            h = encoder(x_t)\n",
    "            encodings.append(h)\n",
    "        \n",
    "        # Concatenate all encodings\n",
    "        concat_encoding = torch.cat(encodings, dim=1)\n",
    "        \n",
    "        # Project to latent space\n",
    "        mu = self.mu_projector(concat_encoding)\n",
    "        logvar = self.logvar_projector(concat_encoding)\n",
    "        \n",
    "        return mu, logvar\n",
    "    \n",
    "    def reparameterize(self, mu, logvar):\n",
    "        \"\"\"\n",
    "        Reparameterization trick to sample from distribution\n",
    "        \n",
    "        Args:\n",
    "            mu: Mean vector\n",
    "            logvar: Log variance vector\n",
    "            \n",
    "        Returns:\n",
    "            z: Sampled latent vector\n",
    "        \"\"\"\n",
    "        std = torch.exp(0.5 * logvar)\n",
    "        eps = torch.randn_like(std)\n",
    "        return mu + eps * std\n",
    "    \n",
    "    def decode(self, z):\n",
    "        \"\"\"\n",
    "        Decode latent representation using group-sparse transformations\n",
    "        \n",
    "        Args:\n",
    "            z: Latent vector\n",
    "            \n",
    "        Returns:\n",
    "            recon_list: List of reconstructions for each timepoint\n",
    "            safety_loss: Medical safety loss if enabled\n",
    "        \"\"\"\n",
    "        batch_size = z.size(0)\n",
    "        recon_list = []\n",
    "        safety_loss = None\n",
    "        \n",
    "        # Apply group-specific latent-to-timepoint transformations with sparsity\n",
    "        transformed = self.group_transform(z)\n",
    "        \n",
    "        # Generate time embeddings\n",
    "        time_indices = torch.arange(len(self.timepoint_names), device=z.device)\n",
    "        time_embeds = self.time_embeddings(time_indices)\n",
    "        \n",
    "        # Decode each timepoint\n",
    "        for i, tp in enumerate(self.timepoint_names):\n",
    "            # Add time embedding\n",
    "            time_embed = time_embeds[i].expand(batch_size, -1)\n",
    "            h = torch.cat([transformed[tp], time_embed], dim=1)\n",
    "            \n",
    "            # Decode\n",
    "            x_recon = self.decoders[tp](h)\n",
    "            \n",
    "            # Apply medical safety constraints if enabled\n",
    "            if self.medical_safety:\n",
    "                x_recon, time_safety_loss = self.safety_layer(x_recon)\n",
    "                if time_safety_loss is not None:\n",
    "                    if safety_loss is None:\n",
    "                        safety_loss = time_safety_loss\n",
    "                    else:\n",
    "                        safety_loss += time_safety_loss\n",
    "            \n",
    "            recon_list.append(x_recon)\n",
    "        \n",
    "        return recon_list, safety_loss\n",
    "    \n",
    "    def predict_attributes(self, z):\n",
    "        \"\"\"\n",
    "        Predict attributes from latent vector for regularization\n",
    "        \n",
    "        Args:\n",
    "            z: Latent vector\n",
    "            \n",
    "        Returns:\n",
    "            attr_pred: Predicted attributes\n",
    "        \"\"\"\n",
    "        return self.attribute_predictor(z)\n",
    "    \n",
    "    def forward(self, x_list, attributes=None):\n",
    "        \"\"\"\n",
    "        Forward pass\n",
    "        \n",
    "        Args:\n",
    "            x_list: List of input tensors\n",
    "            attributes: Clinical attributes tensor\n",
    "            \n",
    "        Returns:\n",
    "            recon_list: List of reconstructions\n",
    "            mu: Mean vector\n",
    "            logvar: Log variance vector\n",
    "            attr_pred: Predicted attributes\n",
    "            y_pred: Predicted complication probability\n",
    "            safety_loss: Medical safety loss if enabled\n",
    "        \"\"\"\n",
    "        # Encode\n",
    "        mu, logvar = self.encode(x_list, attributes)\n",
    "        \n",
    "        # Sample latent vector\n",
    "        z = self.reparameterize(mu, logvar)\n",
    "        \n",
    "        # Integrate latent representation\n",
    "        z = self.integration(z)\n",
    "        \n",
    "        # Predict attributes\n",
    "        attr_pred = self.predict_attributes(z)\n",
    "        \n",
    "        # Predict complications\n",
    "        y_pred = self.classifier(z)\n",
    "        \n",
    "        # Decode\n",
    "        recon_list, safety_loss = self.decode(z)\n",
    "        \n",
    "        return recon_list, mu, logvar, attr_pred, y_pred, safety_loss\n",
    "    \n",
    "    def compute_losses(self, outputs, targets, attributes):\n",
    "        \"\"\"\n",
    "        Compute all loss components\n",
    "        \n",
    "        Args:\n",
    "            outputs: Model outputs (recon_list, mu, logvar, attr_pred, y_pred, safety_loss)\n",
    "            targets: Target values (x_list, y, _)\n",
    "            attributes: Clinical attributes\n",
    "            \n",
    "        Returns:\n",
    "            total_loss: Total weighted loss\n",
    "            loss_dict: Dictionary of individual loss components\n",
    "        \"\"\"\n",
    "        # Unpack outputs\n",
    "        reconstructions, mu, logvar, pred_attributes, y_pred, safety_loss = outputs\n",
    "        x_list, y, _ = targets\n",
    "        \n",
    "        # Ensure y and y_pred have the same shape\n",
    "        y = y.view(-1, 1) if y_pred.shape[-1] == 1 else y\n",
    "        \n",
    "        # 1. Reconstruction loss (MSE)\n",
    "        recon_loss = 0\n",
    "        for i, (x, recon) in enumerate(zip(x_list, reconstructions)):\n",
    "            recon_loss += self.mse_loss(recon, x)\n",
    "        recon_loss /= len(x_list)\n",
    "        \n",
    "        # 2. KL divergence loss\n",
    "        kl_loss = -0.5 * torch.mean(1 + logvar - mu.pow(2) - logvar.exp())\n",
    "        \n",
    "        # 3. Attribute regularization loss\n",
    "        attr_loss = self.mse_loss(pred_attributes, attributes)\n",
    "        \n",
    "        # 4. Classification loss for complications\n",
    "        cls_loss = self.bce_loss(y_pred, y)\n",
    "        \n",
    "        # 5. Group sparsity loss (computed during optimization)\n",
    "        \n",
    "        # Total loss with weighting\n",
    "        total_loss = recon_loss + self.beta * kl_loss + self.gamma * attr_loss + cls_loss\n",
    "        \n",
    "        # Add medical safety loss if available\n",
    "        if safety_loss is not None:\n",
    "            total_loss += self.delta * safety_loss\n",
    "            \n",
    "        # Return individual losses for logging\n",
    "        loss_dict = {\n",
    "            'loss': total_loss.item(),\n",
    "            'recon_loss': recon_loss.item(),\n",
    "            'kl_loss': kl_loss.item(),\n",
    "            'attr_loss': attr_loss.item(),\n",
    "            'cls_loss': cls_loss.item(),\n",
    "        }\n",
    "        \n",
    "        if safety_loss is not None:\n",
    "            loss_dict['safety_loss'] = safety_loss.item()\n",
    "        \n",
    "        return total_loss, loss_dict\n",
    "    \n",
    "    def apply_proximal_update(self, lr, lambda_reg):\n",
    "        \"\"\"\n",
    "        Apply proximal gradient update for group sparsity\n",
    "        \n",
    "        Args:\n",
    "            lr: Learning rate\n",
    "            lambda_reg: Regularization strength\n",
    "        \"\"\"\n",
    "        self.group_transform.apply_proximal_update(lr, lambda_reg)\n",
    "    \n",
    "    def get_group_sparsity_visualization(self):\n",
    "        \"\"\"\n",
    "        Get matrix of group norms for visualization\n",
    "        \n",
    "        Returns:\n",
    "            Group norm matrix for heatmap visualization\n",
    "        \"\"\"\n",
    "        norms = self.group_transform.get_group_norms()\n",
    "        \n",
    "        # Convert to numpy for visualization\n",
    "        norm_matrix = np.zeros((len(self.timepoint_names), self.latent_dim))\n",
    "        for i, tp in enumerate(self.timepoint_names):\n",
    "            norm_matrix[i] = norms[tp].cpu().detach().numpy()\n",
    "            \n",
    "        return norm_matrix"
   ]
  },
  {
   "cell_type": "code",
   "execution_count": 5,
   "metadata": {},
   "outputs": [],
   "source": [
    "class TensorboardCallback:\n",
    "    \"\"\"Callback for logging metrics to TensorBoard during training\"\"\"\n",
    "    def __init__(self, writer):\n",
    "        self.writer = writer\n",
    "        self.step = 0\n",
    "        \n",
    "    def on_epoch_end(self, epoch, train_metrics, val_metrics):\n",
    "        \"\"\"Log metrics at the end of each epoch\"\"\"\n",
    "        # Log training metrics\n",
    "        for k, v in train_metrics.items():\n",
    "            if isinstance(v, (int, float)):\n",
    "                self.writer.add_scalar(f'train/{k}', v, epoch)\n",
    "        \n",
    "        # Log validation metrics\n",
    "        for k, v in val_metrics.items():\n",
    "            if isinstance(v, (int, float)):\n",
    "                self.writer.add_scalar(f'val/{k}', v, epoch)\n",
    "        \n",
    "        # Log learning rate\n",
    "        for i, param_group in enumerate(self.optimizer.param_groups):\n",
    "            self.writer.add_scalar(f'lr/group_{i}', param_group['lr'], epoch)\n",
    "        \n",
    "    def set_optimizer(self, optimizer):\n",
    "        \"\"\"Set the optimizer for learning rate tracking\"\"\"\n",
    "        self.optimizer = optimizer\n",
    "\n",
    "class GroupInterpretableVAETrainer:\n",
    "    \"\"\"\n",
    "    Trainer for Group Interpretable VAE with collapsed variational inference\n",
    "    \"\"\"\n",
    "    def __init__(\n",
    "        self,\n",
    "        model,\n",
    "        train_loader,\n",
    "        val_loader,\n",
    "        device,\n",
    "        lr=1e-3,\n",
    "        weight_decay=1e-5,\n",
    "        beta=1.0,        # KL weight\n",
    "        gamma=0.1,       # Attribute regularization weight\n",
    "        delta=0.1,       # Medical safety weight\n",
    "        lambda_reg=1.0,  # Group sparsity weight\n",
    "        callbacks=None\n",
    "    ):\n",
    "        \"\"\"\n",
    "        Initialize trainer\n",
    "        \n",
    "        Args:\n",
    "            model: GroupInterpretableVAE model\n",
    "            train_loader: DataLoader for training data\n",
    "            val_loader: DataLoader for validation data\n",
    "            device: Device to use (cuda or cpu)\n",
    "            lr: Learning rate\n",
    "            weight_decay: Weight decay\n",
    "            beta: KL divergence weight\n",
    "            gamma: Attribute regularization weight\n",
    "            delta: Medical safety weight\n",
    "            lambda_reg: Group sparsity regularization strength\n",
    "            callbacks: List of callbacks for training events\n",
    "        \"\"\"\n",
    "        self.model = model.to(device)\n",
    "        self.train_loader = train_loader\n",
    "        self.val_loader = val_loader\n",
    "        self.device = device\n",
    "        self.lr = lr\n",
    "        self.lambda_reg = lambda_reg\n",
    "        \n",
    "        # Set loss weights\n",
    "        self.model.beta = beta\n",
    "        self.model.gamma = gamma\n",
    "        self.model.delta = delta\n",
    "        \n",
    "        # Initialize optimizer\n",
    "        self.optimizer = optim.Adam(\n",
    "            model.parameters(),\n",
    "            lr=lr,\n",
    "            weight_decay=weight_decay\n",
    "        )\n",
    "        \n",
    "        # Initialize learning rate scheduler\n",
    "        self.scheduler = ReduceLROnPlateau(\n",
    "            self.optimizer,\n",
    "            mode='min',\n",
    "            factor=0.5,\n",
    "            patience=5\n",
    "        )\n",
    "        \n",
    "        # Callbacks\n",
    "        self.callbacks = callbacks or []\n",
    "        \n",
    "        # Set optimizer in callbacks\n",
    "        for callback in self.callbacks:\n",
    "            if hasattr(callback, 'set_optimizer'):\n",
    "                callback.set_optimizer(self.optimizer)\n",
    "    \n",
    "    def train_epoch(self, epoch):\n",
    "        \"\"\"\n",
    "        Train model for one epoch with collapsed variational inference\n",
    "        \n",
    "        Args:\n",
    "            epoch: Current epoch number\n",
    "            \n",
    "        Returns:\n",
    "            avg_loss: Average loss for the epoch\n",
    "            metrics: Dictionary of metrics\n",
    "        \"\"\"\n",
    "        self.model.train()\n",
    "        running_loss = 0.0\n",
    "        loss_dict_sum = defaultdict(float)\n",
    "        predictions = []\n",
    "        targets = []\n",
    "        \n",
    "        # Create progress bar\n",
    "        pbar = tqdm(self.train_loader, desc=f'Epoch {epoch+1} [Train]')\n",
    "        \n",
    "        for batch_idx, (x_list, y, attributes) in enumerate(pbar):\n",
    "            # Move data to device\n",
    "            x_list = [x.to(self.device) for x in x_list]\n",
    "            y = y.to(self.device)\n",
    "            attributes = attributes.to(self.device)\n",
    "            \n",
    "            # Zero gradients\n",
    "            self.optimizer.zero_grad()\n",
    "            \n",
    "            # Forward pass\n",
    "            outputs = self.model(x_list, attributes)\n",
    "            \n",
    "            # Compute loss\n",
    "            loss, batch_loss_dict = self.model.compute_losses(outputs, (x_list, y, attributes), attributes)\n",
    "            \n",
    "            # Backward pass\n",
    "            loss.backward()\n",
    "            \n",
    "            # Update weights with standard gradient descent\n",
    "            self.optimizer.step()\n",
    "            \n",
    "            # Apply proximal update for group sparsity\n",
    "            self.model.apply_proximal_update(self.lr, self.lambda_reg)\n",
    "            \n",
    "            # Update running loss\n",
    "            running_loss += loss.item()\n",
    "            for k, v in batch_loss_dict.items():\n",
    "                loss_dict_sum[k] += v\n",
    "            \n",
    "            # Update progress bar\n",
    "            pbar.set_postfix({'loss': loss.item()})\n",
    "            \n",
    "            # Store predictions for metrics\n",
    "            y_pred = outputs[4]\n",
    "            predictions.append(y_pred.detach().cpu().numpy())\n",
    "            targets.append(y.detach().cpu().numpy())\n",
    "        \n",
    "        # Concatenate predictions and targets\n",
    "        predictions = np.concatenate(predictions)\n",
    "        targets = np.concatenate(targets)\n",
    "        \n",
    "        # Reshape for metrics calculation\n",
    "        predictions = predictions.reshape(-1)\n",
    "        targets = targets.reshape(-1)\n",
    "        \n",
    "        # Calculate metrics\n",
    "        metrics = {}\n",
    "        for k, v in loss_dict_sum.items():\n",
    "            metrics[k] = v / len(self.train_loader)\n",
    "        \n",
    "        # Calculate classification metrics\n",
    "        try:\n",
    "            metrics['auroc'] = roc_auc_score(targets, predictions)\n",
    "            metrics['auprc'] = average_precision_score(targets, predictions)\n",
    "        except Exception as e:\n",
    "            print(f\"Error calculating metrics: {e}\")\n",
    "            metrics['auroc'] = 0.0\n",
    "            metrics['auprc'] = 0.0\n",
    "        \n",
    "        return metrics['loss'], metrics\n",
    "    \n",
    "    def validate(self, dataloader=None):\n",
    "        \"\"\"\n",
    "        Validate model on validation set\n",
    "        \n",
    "        Args:\n",
    "            dataloader: DataLoader to use for validation (default: self.val_loader)\n",
    "            \n",
    "        Returns:\n",
    "            avg_loss: Average loss for validation\n",
    "            metrics: Dictionary of metrics\n",
    "        \"\"\"\n",
    "        if dataloader is None:\n",
    "            dataloader = self.val_loader\n",
    "            \n",
    "        self.model.eval()\n",
    "        running_loss = 0.0\n",
    "        loss_dict_sum = defaultdict(float)\n",
    "        predictions = []\n",
    "        targets = []\n",
    "        \n",
    "        with torch.no_grad():\n",
    "            # Create progress bar\n",
    "            pbar = tqdm(dataloader, desc='Validation')\n",
    "            \n",
    "            for batch_idx, (x_list, y, attributes) in enumerate(pbar):\n",
    "                # Move data to device\n",
    "                x_list = [x.to(self.device) for x in x_list]\n",
    "                y = y.to(self.device)\n",
    "                attributes = attributes.to(self.device)\n",
    "                \n",
    "                # Forward pass\n",
    "                outputs = self.model(x_list, attributes)\n",
    "                \n",
    "                # Compute loss\n",
    "                loss, batch_loss_dict = self.model.compute_losses(outputs, (x_list, y, attributes), attributes)\n",
    "                \n",
    "                # Update running loss\n",
    "                running_loss += loss.item()\n",
    "                for k, v in batch_loss_dict.items():\n",
    "                    loss_dict_sum[k] += v\n",
    "                \n",
    "                # Update progress bar\n",
    "                pbar.set_postfix({'loss': loss.item()})\n",
    "                \n",
    "                # Store predictions for metrics\n",
    "                y_pred = outputs[4]\n",
    "                predictions.append(y_pred.detach().cpu().numpy())\n",
    "                targets.append(y.detach().cpu().numpy())\n",
    "        \n",
    "        # Concatenate predictions and targets\n",
    "        predictions = np.concatenate(predictions)\n",
    "        targets = np.concatenate(targets)\n",
    "        \n",
    "        # Reshape for metrics calculation\n",
    "        predictions = predictions.reshape(-1)\n",
    "        targets = targets.reshape(-1)\n",
    "        \n",
    "        # Calculate metrics\n",
    "        metrics = {}\n",
    "        for k, v in loss_dict_sum.items():\n",
    "            metrics[k] = v / len(dataloader)\n",
    "        \n",
    "        # Calculate classification metrics\n",
    "        try:\n",
    "            metrics['auroc'] = roc_auc_score(targets, predictions)\n",
    "            metrics['auprc'] = average_precision_score(targets, predictions)\n",
    "        except Exception as e:\n",
    "            print(f\"Error calculating metrics: {e}\")\n",
    "            metrics['auroc'] = 0.0\n",
    "            metrics['auprc'] = 0.0\n",
    "        \n",
    "        return metrics\n",
    "    \n",
    "    def train(self, n_epochs=100, early_stopping_patience=10, checkpoint_dir=\"./checkpoints\"):\n",
    "        \"\"\"\n",
    "        Train the model with early stopping\n",
    "        \n",
    "        Args:\n",
    "            n_epochs: Maximum number of epochs to train\n",
    "            early_stopping_patience: Number of epochs to wait for improvement before stopping\n",
    "            checkpoint_dir: Directory to save model checkpoints\n",
    "            \n",
    "        Returns:\n",
    "            history: Dictionary of training and validation metrics\n",
    "            best_model: Best model state dict\n",
    "        \"\"\"\n",
    "        # Create checkpoint directory if it doesn't exist\n",
    "        os.makedirs(checkpoint_dir, exist_ok=True)\n",
    "        \n",
    "        # Initialize variables for training\n",
    "        best_val_loss = float('inf')\n",
    "        best_model_state = None\n",
    "        patience_counter = 0\n",
    "        history = {'train': [], 'val': []}\n",
    "        \n",
    "        print(f\"Starting training for {n_epochs} epochs with early stopping patience {early_stopping_patience}\")\n",
    "        \n",
    "        for epoch in range(n_epochs):\n",
    "            # Train for one epoch\n",
    "            train_loss, train_metrics = self.train_epoch(epoch)\n",
    "            \n",
    "            # Validate\n",
    "            val_metrics = self.validate()\n",
    "            val_loss = val_metrics['loss']\n",
    "            \n",
    "            # Update learning rate scheduler\n",
    "            self.scheduler.step(val_loss)\n",
    "            \n",
    "            # Save metrics in history\n",
    "            history['train'].append(train_metrics)\n",
    "            history['val'].append(val_metrics)\n",
    "            \n",
    "            # Print epoch summary\n",
    "            print(f\"Epoch {epoch+1}/{n_epochs} - \"\n",
    "                f\"Train Loss: {train_loss:.4f}, \"\n",
    "                f\"Val Loss: {val_loss:.4f}, \"\n",
    "                f\"Train AUROC: {train_metrics.get('auroc', 0):.4f}, \"\n",
    "                f\"Val AUROC: {val_metrics.get('auroc', 0):.4f}\")\n",
    "            \n",
    "            # Call callbacks\n",
    "            for callback in self.callbacks:\n",
    "                if hasattr(callback, 'on_epoch_end'):\n",
    "                    callback.on_epoch_end(epoch, train_metrics, val_metrics)\n",
    "            \n",
    "            # Check for improvement\n",
    "            if val_loss < best_val_loss:\n",
    "                best_val_loss = val_loss\n",
    "                best_model_state = copy.deepcopy(self.model.state_dict())\n",
    "                patience_counter = 0\n",
    "                \n",
    "                # Save the best model\n",
    "                checkpoint_path = os.path.join(checkpoint_dir, f\"best_model.pt\")\n",
    "                torch.save({\n",
    "                    'epoch': epoch,\n",
    "                    'model_state_dict': self.model.state_dict(),\n",
    "                    'optimizer_state_dict': self.optimizer.state_dict(),\n",
    "                    'train_metrics': train_metrics,\n",
    "                    'val_metrics': val_metrics,\n",
    "                }, checkpoint_path)\n",
    "                print(f\"Saved best model at epoch {epoch+1} with val_loss: {val_loss:.4f}\")\n",
    "            else:\n",
    "                patience_counter += 1\n",
    "                if patience_counter >= early_stopping_patience:\n",
    "                    print(f\"Early stopping triggered after {epoch+1} epochs\")\n",
    "                    break\n",
    "        \n",
    "        # Load the best model\n",
    "        if best_model_state is not None:\n",
    "            self.model.load_state_dict(best_model_state)\n",
    "        \n",
    "        return history, self.model"
   ]
  },
  {
   "cell_type": "code",
   "execution_count": 6,
   "metadata": {},
   "outputs": [],
   "source": [
    "def plot_training_history(history):\n",
    "    \"\"\"\n",
    "    Plot training and validation metrics\n",
    "    \n",
    "    Args:\n",
    "        history: Dictionary of training and validation metrics from trainer\n",
    "    \"\"\"\n",
    "    # Convert history to DataFrame for easier plotting\n",
    "    epochs = range(1, len(history['train']) + 1)\n",
    "    metrics = ['loss', 'recon_loss', 'kl_loss', 'attr_loss', 'cls_loss', 'auroc', 'auprc']\n",
    "    \n",
    "    plt.figure(figsize=(15, 12))\n",
    "    \n",
    "    for i, metric in enumerate(metrics):\n",
    "        if metric not in history['train'][0]:\n",
    "            continue\n",
    "            \n",
    "        plt.subplot(3, 3, i+1)\n",
    "        \n",
    "        # Get train and val values for the metric\n",
    "        train_values = [epoch_metrics.get(metric, 0) for epoch_metrics in history['train']]\n",
    "        val_values = [epoch_metrics.get(metric, 0) for epoch_metrics in history['val']]\n",
    "        \n",
    "        plt.plot(epochs, train_values, 'b-', label=f'Train {metric}')\n",
    "        plt.plot(epochs, val_values, 'r-', label=f'Val {metric}')\n",
    "        \n",
    "        plt.title(f'{metric} vs. Epochs')\n",
    "        plt.xlabel('Epochs')\n",
    "        plt.ylabel(metric)\n",
    "        plt.legend()\n",
    "        \n",
    "        # Highlight best epoch (lowest val loss or highest val auroc)\n",
    "        if metric == 'loss':\n",
    "            best_epoch = np.argmin(val_values) + 1\n",
    "            plt.axvline(x=best_epoch, color='g', linestyle='--')\n",
    "            plt.text(best_epoch + 0.1, min(train_values), f'Best epoch: {best_epoch}')\n",
    "        elif metric == 'auroc':\n",
    "            best_epoch = np.argmax(val_values) + 1\n",
    "            plt.axvline(x=best_epoch, color='g', linestyle='--')\n",
    "            plt.text(best_epoch + 0.1, max(val_values), f'Best epoch: {best_epoch}')\n",
    "    \n",
    "    plt.tight_layout()\n",
    "    plt.show()\n",
    "\n",
    "def visualize_latent_space(model, test_loader, device, plot_type='tsne'):\n",
    "    \"\"\"\n",
    "    Visualize the latent space using t-SNE or PCA\n",
    "    \n",
    "    Args:\n",
    "        model: Trained model\n",
    "        test_loader: DataLoader for test data\n",
    "        device: Device to use\n",
    "        plot_type: 'tsne' or 'pca'\n",
    "    \"\"\"\n",
    "    model.eval()\n",
    "    latent_vectors = []\n",
    "    labels = []\n",
    "    \n",
    "    with torch.no_grad():\n",
    "        for x_list, y, attributes in test_loader:\n",
    "            # Move data to device\n",
    "            x_list = [x.to(device) for x in x_list]\n",
    "            \n",
    "            # Get latent representation (mu)\n",
    "            mu, _ = model.encode(x_list)\n",
    "            \n",
    "            # Store latent vectors and labels\n",
    "            latent_vectors.append(mu.cpu().numpy())\n",
    "            labels.append(y.cpu().numpy())\n",
    "    \n",
    "    # Concatenate batches\n",
    "    latent_vectors = np.concatenate(latent_vectors, axis=0)\n",
    "    labels = np.concatenate(labels, axis=0)\n",
    "    \n",
    "    # Apply dimensionality reduction\n",
    "    if plot_type == 'tsne':\n",
    "        reducer = TSNE(n_components=2, random_state=42)\n",
    "        reduced_data = reducer.fit_transform(latent_vectors)\n",
    "        title = 't-SNE Visualization of Latent Space'\n",
    "    else:  # pca\n",
    "        from sklearn.decomposition import PCA\n",
    "        reducer = PCA(n_components=2, random_state=42)\n",
    "        reduced_data = reducer.fit_transform(latent_vectors)\n",
    "        title = 'PCA Visualization of Latent Space'\n",
    "    \n",
    "    # Plot\n",
    "    plt.figure(figsize=(10, 8))\n",
    "    scatter = plt.scatter(reduced_data[:, 0], reduced_data[:, 1], c=labels, alpha=0.6, \n",
    "                          cmap='coolwarm', edgecolors='w', s=100)\n",
    "    \n",
    "    plt.colorbar(scatter, label='Complication')\n",
    "    plt.title(title)\n",
    "    plt.xlabel('Dimension 1')\n",
    "    plt.ylabel('Dimension 2')\n",
    "    plt.grid(True, alpha=0.3)\n",
    "    plt.tight_layout()\n",
    "    plt.show()\n",
    "\n",
    "def visualize_group_sparsity(model):\n",
    "    \"\"\"\n",
    "    Visualize the group sparsity patterns\n",
    "    \n",
    "    Args:\n",
    "        model: Trained model\n",
    "    \"\"\"\n",
    "    # Get group sparsity matrix\n",
    "    norm_matrix = model.get_group_sparsity_visualization()\n",
    "    \n",
    "    plt.figure(figsize=(12, 8))\n",
    "    sns.heatmap(norm_matrix, cmap='viridis', \n",
    "                xticklabels=[f'z{i+1}' for i in range(model.latent_dim)],\n",
    "                yticklabels=model.timepoint_names,\n",
    "                annot=False, cbar=True)\n",
    "    \n",
    "    plt.title('Group Sparsity Pattern')\n",
    "    plt.xlabel('Latent Dimensions')\n",
    "    plt.ylabel('Timepoints')\n",
    "    plt.tight_layout()\n",
    "    plt.show()\n",
    "    \n",
    "    # Analyze which latent dimensions are active for each timepoint\n",
    "    for i, tp in enumerate(model.timepoint_names):\n",
    "        active_dims = np.where(norm_matrix[i] > 0.1)[0]  # Threshold can be adjusted\n",
    "        print(f\"Timepoint {tp} is influenced by latent dimensions: {list(active_dims + 1)}\")\n",
    "\n",
    "def visualize_attribute_regularization(model, test_loader, device):\n",
    "    \"\"\"\n",
    "    Visualize how latent dimensions correspond to clinical attributes\n",
    "    \n",
    "    Args:\n",
    "        model: Trained model\n",
    "        test_loader: DataLoader for test data\n",
    "        device: Device to use\n",
    "    \"\"\"\n",
    "    model.eval()\n",
    "    latent_vectors = []\n",
    "    all_attributes = []\n",
    "    \n",
    "    with torch.no_grad():\n",
    "        for x_list, _, attributes in test_loader:\n",
    "            # Move data to device\n",
    "            x_list = [x.to(device) for x in x_list]\n",
    "            \n",
    "            # Get latent representation (mu)\n",
    "            mu, _ = model.encode(x_list)\n",
    "            \n",
    "            # Store latent vectors and attributes\n",
    "            latent_vectors.append(mu.cpu().numpy())\n",
    "            all_attributes.append(attributes.cpu().numpy())\n",
    "    \n",
    "    # Concatenate batches\n",
    "    latent_vectors = np.concatenate(latent_vectors, axis=0)\n",
    "    all_attributes = np.concatenate(all_attributes, axis=0)\n",
    "    \n",
    "    # Calculate correlations between latent dimensions and attributes\n",
    "    corr_matrix = np.zeros((model.latent_dim, all_attributes.shape[1]))\n",
    "    \n",
    "    for i in range(model.latent_dim):\n",
    "        for j in range(all_attributes.shape[1]):\n",
    "            corr = np.corrcoef(latent_vectors[:, i], all_attributes[:, j])[0, 1]\n",
    "            corr_matrix[i, j] = corr\n",
    "    \n",
    "    # Plot correlation heatmap\n",
    "    plt.figure(figsize=(10, 8))\n",
    "    sns.heatmap(corr_matrix, cmap='coolwarm', center=0,\n",
    "                xticklabels=list(model.attribute_dims.keys()),\n",
    "                yticklabels=[f'z{i+1}' for i in range(model.latent_dim)],\n",
    "                annot=True, fmt='.2f')\n",
    "    \n",
    "    plt.title('Correlation between Latent Dimensions and Clinical Attributes')\n",
    "    plt.xlabel('Clinical Attributes')"
   ]
  },
  {
   "cell_type": "code",
   "execution_count": 7,
   "metadata": {},
   "outputs": [
    {
     "ename": "",
     "evalue": "",
     "output_type": "error",
     "traceback": [
      "\u001b[1;31mThe Kernel crashed while executing code in the current cell or a previous cell. \n",
      "\u001b[1;31mPlease review the code in the cell(s) to identify a possible cause of the failure. \n",
      "\u001b[1;31mClick <a href='https://aka.ms/vscodeJupyterKernelCrash'>here</a> for more info. \n",
      "\u001b[1;31mView Jupyter <a href='command:jupyter.viewOutput'>log</a> for further details."
     ]
    }
   ],
   "source": [
    "def plot_training_history(history):\n",
    "    \"\"\"\n",
    "    Plot training and validation metrics\n",
    "    \n",
    "    Args:\n",
    "        history: Dictionary of training and validation metrics from trainer\n",
    "    \"\"\"\n",
    "    # Convert history to DataFrame for easier plotting\n",
    "    epochs = range(1, len(history['train']) + 1)\n",
    "    metrics = ['loss', 'recon_loss', 'kl_loss', 'attr_loss', 'cls_loss', 'auroc', 'auprc']\n",
    "    \n",
    "    plt.figure(figsize=(15, 12))\n",
    "    \n",
    "    for i, metric in enumerate(metrics):\n",
    "        if metric not in history['train'][0]:\n",
    "            continue\n",
    "            \n",
    "        plt.subplot(3, 3, i+1)\n",
    "        \n",
    "        # Get train and val values for the metric\n",
    "        train_values = [epoch_metrics.get(metric, 0) for epoch_metrics in history['train']]\n",
    "        val_values = [epoch_metrics.get(metric, 0) for epoch_metrics in history['val']]\n",
    "        \n",
    "        plt.plot(epochs, train_values, 'b-', label=f'Train {metric}')\n",
    "        plt.plot(epochs, val_values, 'r-', label=f'Val {metric}')\n",
    "        \n",
    "        plt.title(f'{metric} vs. Epochs')\n",
    "        plt.xlabel('Epochs')\n",
    "        plt.ylabel(metric)\n",
    "        plt.legend()\n",
    "        \n",
    "        # Highlight best epoch (lowest val loss or highest val auroc)\n",
    "        if metric == 'loss':\n",
    "            best_epoch = np.argmin(val_values) + 1\n",
    "            plt.axvline(x=best_epoch, color='g', linestyle='--')\n",
    "            plt.text(best_epoch + 0.1, min(train_values), f'Best epoch: {best_epoch}')\n",
    "        elif metric == 'auroc':\n",
    "            best_epoch = np.argmax(val_values) + 1\n",
    "            plt.axvline(x=best_epoch, color='g', linestyle='--')\n",
    "            plt.text(best_epoch + 0.1, max(val_values), f'Best epoch: {best_epoch}')\n",
    "    \n",
    "    plt.tight_layout()\n",
    "    plt.show()\n",
    "\n",
    "def visualize_latent_space(model, test_loader, device, plot_type='tsne'):\n",
    "    \"\"\"\n",
    "    Visualize the latent space using t-SNE or PCA\n",
    "    \n",
    "    Args:\n",
    "        model: Trained model\n",
    "        test_loader: DataLoader for test data\n",
    "        device: Device to use\n",
    "        plot_type: 'tsne' or 'pca'\n",
    "    \"\"\"\n",
    "    model.eval()\n",
    "    latent_vectors = []\n",
    "    labels = []\n",
    "    \n",
    "    with torch.no_grad():\n",
    "        for x_list, y, attributes in test_loader:\n",
    "            # Move data to device\n",
    "            x_list = [x.to(device) for x in x_list]\n",
    "            \n",
    "            # Get latent representation (mu)\n",
    "            mu, _ = model.encode(x_list)\n",
    "            \n",
    "            # Store latent vectors and labels\n",
    "            latent_vectors.append(mu.cpu().numpy())\n",
    "            labels.append(y.cpu().numpy())\n",
    "    \n",
    "    # Concatenate batches\n",
    "    latent_vectors = np.concatenate(latent_vectors, axis=0)\n",
    "    labels = np.concatenate(labels, axis=0)\n",
    "    \n",
    "    # Apply dimensionality reduction\n",
    "    if plot_type == 'tsne':\n",
    "        reducer = TSNE(n_components=2, random_state=42)\n",
    "        reduced_data = reducer.fit_transform(latent_vectors)\n",
    "        title = 't-SNE Visualization of Latent Space'\n",
    "    else:  # pca\n",
    "        from sklearn.decomposition import PCA\n",
    "        reducer = PCA(n_components=2, random_state=42)\n",
    "        reduced_data = reducer.fit_transform(latent_vectors)\n",
    "        title = 'PCA Visualization of Latent Space'\n",
    "    \n",
    "    # Plot\n",
    "    plt.figure(figsize=(10, 8))\n",
    "    scatter = plt.scatter(reduced_data[:, 0], reduced_data[:, 1], c=labels, alpha=0.6, \n",
    "                          cmap='coolwarm', edgecolors='w', s=100)\n",
    "    \n",
    "    plt.colorbar(scatter, label='Complication')\n",
    "    plt.title(title)\n",
    "    plt.xlabel('Dimension 1')\n",
    "    plt.ylabel('Dimension 2')\n",
    "    plt.grid(True, alpha=0.3)\n",
    "    plt.tight_layout()\n",
    "    plt.show()\n",
    "\n",
    "def visualize_group_sparsity(model):\n",
    "    \"\"\"\n",
    "    Visualize the group sparsity patterns\n",
    "    \n",
    "    Args:\n",
    "        model: Trained model\n",
    "    \"\"\"\n",
    "    # Get group sparsity matrix\n",
    "    norm_matrix = model.get_group_sparsity_visualization()\n",
    "    \n",
    "    plt.figure(figsize=(12, 8))\n",
    "    sns.heatmap(norm_matrix, cmap='viridis', \n",
    "                xticklabels=[f'z{i+1}' for i in range(model.latent_dim)],\n",
    "                yticklabels=model.timepoint_names,\n",
    "                annot=False, cbar=True)\n",
    "    \n",
    "    plt.title('Group Sparsity Pattern')\n",
    "    plt.xlabel('Latent Dimensions')\n",
    "    plt.ylabel('Timepoints')\n",
    "    plt.tight_layout()\n",
    "    plt.show()\n",
    "    \n",
    "    # Analyze which latent dimensions are active for each timepoint\n",
    "    for i, tp in enumerate(model.timepoint_names):\n",
    "        active_dims = np.where(norm_matrix[i] > 0.1)[0]  # Threshold can be adjusted\n",
    "        print(f\"Timepoint {tp} is influenced by latent dimensions: {list(active_dims + 1)}\")\n",
    "\n",
    "def visualize_attribute_regularization(model, test_loader, device):\n",
    "    \"\"\"\n",
    "    Visualize how latent dimensions correspond to clinical attributes\n",
    "    \n",
    "    Args:\n",
    "        model: Trained model\n",
    "        test_loader: DataLoader for test data\n",
    "        device: Device to use\n",
    "    \"\"\"\n",
    "    model.eval()\n",
    "    latent_vectors = []\n",
    "    all_attributes = []\n",
    "    \n",
    "    with torch.no_grad():\n",
    "        for x_list, _, attributes in test_loader:\n",
    "            # Move data to device\n",
    "            x_list = [x.to(device) for x in x_list]\n",
    "            \n",
    "            # Get latent representation (mu)\n",
    "            mu, _ = model.encode(x_list)\n",
    "            \n",
    "            # Store latent vectors and attributes\n",
    "            latent_vectors.append(mu.cpu().numpy())\n",
    "            all_attributes.append(attributes.cpu().numpy())\n",
    "    \n",
    "    # Concatenate batches\n",
    "    latent_vectors = np.concatenate(latent_vectors, axis=0)\n",
    "    all_attributes = np.concatenate(all_attributes, axis=0)\n",
    "    \n",
    "    # Calculate correlations between latent dimensions and attributes\n",
    "    corr_matrix = np.zeros((model.latent_dim, all_attributes.shape[1]))\n",
    "    \n",
    "    for i in range(model.latent_dim):\n",
    "        for j in range(all_attributes.shape[1]):\n",
    "            corr = np.corrcoef(latent_vectors[:, i], all_attributes[:, j])[0, 1]\n",
    "            corr_matrix[i, j] = corr\n",
    "    \n",
    "    # Plot correlation heatmap\n",
    "    plt.figure(figsize=(10, 8))\n",
    "    sns.heatmap(corr_matrix, cmap='coolwarm', center=0,\n",
    "                xticklabels=list(model.attribute_dims.keys()),\n",
    "                yticklabels=[f'z{i+1}' for i in range(model.latent_dim)],\n",
    "                annot=True, fmt='.2f')\n",
    "    \n",
    "    plt.title('Correlation between Latent Dimensions and Clinical Attributes')\n",
    "    plt.xlabel('Clinical Attributes')\n",
    "    plt.ylabel('Latent Dimensions')\n",
    "    plt.tight_layout()\n",
    "    plt.show()\n",
    "    \n",
    "    # Print most correlated attributes for each latent dimension\n",
    "    for i in range(model.latent_dim):\n",
    "        top_attr_idx = np.abs(corr_matrix[i]).argsort()[-3:][::-1]  # Top 3\n",
    "        top_attrs = [(list(model.attribute_dims.keys())[j], corr_matrix[i, j]) for j in top_attr_idx]\n",
    "        print(f\"Latent dimension z{i+1} is most correlated with: {top_attrs}\")\n",
    "\n",
    "def evaluate_model(model, test_loader, device):\n",
    "    \"\"\"\n",
    "    Evaluate the model on test data\n",
    "    \n",
    "    Args:\n",
    "        model: Trained model\n",
    "        test_loader: DataLoader for test data\n",
    "        device: Device to use\n",
    "        \n",
    "    Returns:\n",
    "        metrics: Dictionary of test metrics\n",
    "    \"\"\"\n",
    "    # Get test metrics\n",
    "    test_metrics = model.trainer.validate(test_loader)\n",
    "    \n",
    "    # Print test metrics\n",
    "    print(\"Test metrics:\")\n",
    "    for k, v in test_metrics.items():\n",
    "        print(f\"  {k}: {v:.4f}\")\n",
    "    \n",
    "    # Calculate predictions for confusion matrix\n",
    "    model.eval()\n",
    "    all_preds = []\n",
    "    all_targets = []\n",
    "    \n",
    "    with torch.no_grad():\n",
    "        for x_list, y, attributes in test_loader:\n",
    "            # Move data to device\n",
    "            x_list = [x.to(device) for x in x_list]\n",
    "            \n",
    "            # Forward pass\n",
    "            outputs = model(x_list, attributes)\n",
    "            y_pred = outputs[4]\n",
    "            \n",
    "            # Apply sigmoid and threshold\n",
    "            y_pred = torch.sigmoid(y_pred).cpu().numpy() > 0.5\n",
    "            \n",
    "            # Store predictions and targets\n",
    "            all_preds.append(y_pred)\n",
    "            all_targets.append(y.cpu().numpy())\n",
    "    \n",
    "    # Concatenate batches\n",
    "    all_preds = np.concatenate(all_preds, axis=0).flatten()\n",
    "    all_targets = np.concatenate(all_targets, axis=0).flatten()\n",
    "    \n",
    "    # Plot confusion matrix\n",
    "    cm = confusion_matrix(all_targets, all_preds)\n",
    "    plt.figure(figsize=(8, 6))\n",
    "    sns.heatmap(cm, annot=True, fmt='d', cmap='Blues', \n",
    "                xticklabels=['No Complication', 'Complication'],\n",
    "                yticklabels=['No Complication', 'Complication'])\n",
    "    \n",
    "    plt.title('Confusion Matrix')\n",
    "    plt.xlabel('Predicted')\n",
    "    plt.ylabel('Actual')\n",
    "    plt.tight_layout()\n",
    "    plt.show()\n",
    "    \n",
    "    return test_metrics"
   ]
  },
  {
   "cell_type": "code",
   "execution_count": null,
   "metadata": {},
   "outputs": [
    {
     "name": "stdout",
     "output_type": "stream",
     "text": [
      "Loading data...\n",
      "Loading MI Complications dataset from UCI repository...\n",
      "Dataset shape: (1700, 111)\n",
      "Number of samples: 1700\n",
      "Number of complications: 12\n",
      "Positive samples (with complications): 1037 (61.00%)\n",
      "Timepoint admission: 3 features\n",
      "Timepoint 24h: 0 features\n",
      "Timepoint 48h: 0 features\n",
      "Timepoint 72h: 0 features\n",
      "Selected 6 clinical attributes: ['AGE', 'S_AD_ORIT', 'D_AD_ORIT', 'K_BLOOD', 'L_BLOOD', 'TIME_B_S']\n",
      "Timepoint admission: 2.63% missing values\n",
      "Data preprocessing completed successfully.\n",
      "Creating train/val/test splits...\n",
      "Train set: 1190 samples (61.01% positive)\n",
      "Validation set: 340 samples (60.88% positive)\n",
      "Test set: 170 samples (61.18% positive)\n",
      "Data loaders created successfully.\n",
      "Input dimensions: [3]\n",
      "Timepoint names: ['admission']\n",
      "Attribute dimensions: {'AGE': 0, 'S_AD_ORIT': 1, 'D_AD_ORIT': 2, 'K_BLOOD': 3, 'L_BLOOD': 4, 'TIME_B_S': 5}\n",
      "Initializing model...\n",
      "Training model...\n",
      "Starting training for 100 epochs with early stopping patience 10\n"
     ]
    },
    {
     "data": {
      "application/vnd.jupyter.widget-view+json": {
       "model_id": "c5a6203b221949559373a14cd81097ae",
       "version_major": 2,
       "version_minor": 0
      },
      "text/plain": [
       "Epoch 1 [Train]:   0%|          | 0/38 [00:00<?, ?it/s]"
      ]
     },
     "metadata": {},
     "output_type": "display_data"
    },
    {
     "data": {
      "application/vnd.jupyter.widget-view+json": {
       "model_id": "54f3de44447e4a26913f371e1fb7e8b3",
       "version_major": 2,
       "version_minor": 0
      },
      "text/plain": [
       "Validation:   0%|          | 0/11 [00:00<?, ?it/s]"
      ]
     },
     "metadata": {},
     "output_type": "display_data"
    },
    {
     "name": "stdout",
     "output_type": "stream",
     "text": [
      "Epoch 1/100 - Train Loss: 1.6367, Val Loss: 1.6965, Train AUROC: 0.5211, Val AUROC: 0.6186\n",
      "Saved best model at epoch 1 with val_loss: 1.6965\n"
     ]
    },
    {
     "data": {
      "application/vnd.jupyter.widget-view+json": {
       "model_id": "14060e8424b546c29f23b0165f85a7fc",
       "version_major": 2,
       "version_minor": 0
      },
      "text/plain": [
       "Epoch 2 [Train]:   0%|          | 0/38 [00:00<?, ?it/s]"
      ]
     },
     "metadata": {},
     "output_type": "display_data"
    },
    {
     "data": {
      "application/vnd.jupyter.widget-view+json": {
       "model_id": "9bf51a086f314cb7ba37a0f66b6382da",
       "version_major": 2,
       "version_minor": 0
      },
      "text/plain": [
       "Validation:   0%|          | 0/11 [00:00<?, ?it/s]"
      ]
     },
     "metadata": {},
     "output_type": "display_data"
    },
    {
     "name": "stdout",
     "output_type": "stream",
     "text": [
      "Epoch 2/100 - Train Loss: 1.2683, Val Loss: 1.2480, Train AUROC: 0.5875, Val AUROC: 0.6445\n",
      "Saved best model at epoch 2 with val_loss: 1.2480\n"
     ]
    },
    {
     "data": {
      "application/vnd.jupyter.widget-view+json": {
       "model_id": "b2d6940bb78a4dfab5ea5440151043d3",
       "version_major": 2,
       "version_minor": 0
      },
      "text/plain": [
       "Epoch 3 [Train]:   0%|          | 0/38 [00:00<?, ?it/s]"
      ]
     },
     "metadata": {},
     "output_type": "display_data"
    },
    {
     "data": {
      "application/vnd.jupyter.widget-view+json": {
       "model_id": "b1bd94e31e8842239fa3c31680eabf95",
       "version_major": 2,
       "version_minor": 0
      },
      "text/plain": [
       "Validation:   0%|          | 0/11 [00:00<?, ?it/s]"
      ]
     },
     "metadata": {},
     "output_type": "display_data"
    },
    {
     "name": "stdout",
     "output_type": "stream",
     "text": [
      "Epoch 3/100 - Train Loss: 1.1792, Val Loss: 1.1448, Train AUROC: 0.5971, Val AUROC: 0.6428\n",
      "Saved best model at epoch 3 with val_loss: 1.1448\n"
     ]
    },
    {
     "data": {
      "application/vnd.jupyter.widget-view+json": {
       "model_id": "eafe293942114196a62e5d0ea4c93dd7",
       "version_major": 2,
       "version_minor": 0
      },
      "text/plain": [
       "Epoch 4 [Train]:   0%|          | 0/38 [00:00<?, ?it/s]"
      ]
     },
     "metadata": {},
     "output_type": "display_data"
    },
    {
     "data": {
      "application/vnd.jupyter.widget-view+json": {
       "model_id": "ee74cc0297ac4a948e71a90a9fb3a6e5",
       "version_major": 2,
       "version_minor": 0
      },
      "text/plain": [
       "Validation:   0%|          | 0/11 [00:00<?, ?it/s]"
      ]
     },
     "metadata": {},
     "output_type": "display_data"
    },
    {
     "name": "stdout",
     "output_type": "stream",
     "text": [
      "Epoch 4/100 - Train Loss: 1.1318, Val Loss: 1.0896, Train AUROC: 0.6094, Val AUROC: 0.6348\n",
      "Saved best model at epoch 4 with val_loss: 1.0896\n"
     ]
    },
    {
     "data": {
      "application/vnd.jupyter.widget-view+json": {
       "model_id": "7d0e66de18484616885c92788d47906b",
       "version_major": 2,
       "version_minor": 0
      },
      "text/plain": [
       "Epoch 5 [Train]:   0%|          | 0/38 [00:00<?, ?it/s]"
      ]
     },
     "metadata": {},
     "output_type": "display_data"
    },
    {
     "data": {
      "application/vnd.jupyter.widget-view+json": {
       "model_id": "f2e48212e46b4b1885206fd830e91f6e",
       "version_major": 2,
       "version_minor": 0
      },
      "text/plain": [
       "Validation:   0%|          | 0/11 [00:00<?, ?it/s]"
      ]
     },
     "metadata": {},
     "output_type": "display_data"
    },
    {
     "name": "stdout",
     "output_type": "stream",
     "text": [
      "Epoch 5/100 - Train Loss: 1.1144, Val Loss: 1.0714, Train AUROC: 0.6288, Val AUROC: 0.6145\n",
      "Saved best model at epoch 5 with val_loss: 1.0714\n"
     ]
    },
    {
     "data": {
      "application/vnd.jupyter.widget-view+json": {
       "model_id": "ceca393a8aca4d7fab14310866f678e0",
       "version_major": 2,
       "version_minor": 0
      },
      "text/plain": [
       "Epoch 6 [Train]:   0%|          | 0/38 [00:00<?, ?it/s]"
      ]
     },
     "metadata": {},
     "output_type": "display_data"
    },
    {
     "data": {
      "application/vnd.jupyter.widget-view+json": {
       "model_id": "8e9d3877841045b5941d184e9ad15e0a",
       "version_major": 2,
       "version_minor": 0
      },
      "text/plain": [
       "Validation:   0%|          | 0/11 [00:00<?, ?it/s]"
      ]
     },
     "metadata": {},
     "output_type": "display_data"
    },
    {
     "name": "stdout",
     "output_type": "stream",
     "text": [
      "Epoch 6/100 - Train Loss: 1.1255, Val Loss: 1.0729, Train AUROC: 0.6115, Val AUROC: 0.6226\n"
     ]
    },
    {
     "data": {
      "application/vnd.jupyter.widget-view+json": {
       "model_id": "24c2a3a37a8747e3a34e1af4b7a27103",
       "version_major": 2,
       "version_minor": 0
      },
      "text/plain": [
       "Epoch 7 [Train]:   0%|          | 0/38 [00:00<?, ?it/s]"
      ]
     },
     "metadata": {},
     "output_type": "display_data"
    },
    {
     "data": {
      "application/vnd.jupyter.widget-view+json": {
       "model_id": "ae187f7444fc4ff2ad7218f36b998788",
       "version_major": 2,
       "version_minor": 0
      },
      "text/plain": [
       "Validation:   0%|          | 0/11 [00:00<?, ?it/s]"
      ]
     },
     "metadata": {},
     "output_type": "display_data"
    },
    {
     "name": "stdout",
     "output_type": "stream",
     "text": [
      "Epoch 7/100 - Train Loss: 1.1185, Val Loss: 1.0636, Train AUROC: 0.6174, Val AUROC: 0.6089\n",
      "Saved best model at epoch 7 with val_loss: 1.0636\n"
     ]
    },
    {
     "data": {
      "application/vnd.jupyter.widget-view+json": {
       "model_id": "9ca6bcd6c2944c5d91f06ed69078ff72",
       "version_major": 2,
       "version_minor": 0
      },
      "text/plain": [
       "Epoch 8 [Train]:   0%|          | 0/38 [00:00<?, ?it/s]"
      ]
     },
     "metadata": {},
     "output_type": "display_data"
    },
    {
     "data": {
      "application/vnd.jupyter.widget-view+json": {
       "model_id": "dd734d390d37433dacc138c794a131bf",
       "version_major": 2,
       "version_minor": 0
      },
      "text/plain": [
       "Validation:   0%|          | 0/11 [00:00<?, ?it/s]"
      ]
     },
     "metadata": {},
     "output_type": "display_data"
    },
    {
     "name": "stdout",
     "output_type": "stream",
     "text": [
      "Epoch 8/100 - Train Loss: 1.0961, Val Loss: 1.0410, Train AUROC: 0.6380, Val AUROC: 0.6618\n",
      "Saved best model at epoch 8 with val_loss: 1.0410\n"
     ]
    },
    {
     "data": {
      "application/vnd.jupyter.widget-view+json": {
       "model_id": "5054a8c37fb54befa44b6ecdd146d8d8",
       "version_major": 2,
       "version_minor": 0
      },
      "text/plain": [
       "Epoch 9 [Train]:   0%|          | 0/38 [00:00<?, ?it/s]"
      ]
     },
     "metadata": {},
     "output_type": "display_data"
    },
    {
     "data": {
      "application/vnd.jupyter.widget-view+json": {
       "model_id": "a143bcea1aa541dea3ab51facf5fdd58",
       "version_major": 2,
       "version_minor": 0
      },
      "text/plain": [
       "Validation:   0%|          | 0/11 [00:00<?, ?it/s]"
      ]
     },
     "metadata": {},
     "output_type": "display_data"
    },
    {
     "name": "stdout",
     "output_type": "stream",
     "text": [
      "Epoch 9/100 - Train Loss: 1.0927, Val Loss: 1.0749, Train AUROC: 0.6234, Val AUROC: 0.6496\n"
     ]
    },
    {
     "data": {
      "application/vnd.jupyter.widget-view+json": {
       "model_id": "0c343849f894480dad57a76425520e51",
       "version_major": 2,
       "version_minor": 0
      },
      "text/plain": [
       "Epoch 10 [Train]:   0%|          | 0/38 [00:00<?, ?it/s]"
      ]
     },
     "metadata": {},
     "output_type": "display_data"
    },
    {
     "data": {
      "application/vnd.jupyter.widget-view+json": {
       "model_id": "b252724d0f164aacbb0b67626b2a6909",
       "version_major": 2,
       "version_minor": 0
      },
      "text/plain": [
       "Validation:   0%|          | 0/11 [00:00<?, ?it/s]"
      ]
     },
     "metadata": {},
     "output_type": "display_data"
    },
    {
     "name": "stdout",
     "output_type": "stream",
     "text": [
      "Epoch 10/100 - Train Loss: 1.0792, Val Loss: 1.0495, Train AUROC: 0.6407, Val AUROC: 0.6318\n"
     ]
    },
    {
     "data": {
      "application/vnd.jupyter.widget-view+json": {
       "model_id": "004ee14f8d684d0f891c079700efee47",
       "version_major": 2,
       "version_minor": 0
      },
      "text/plain": [
       "Epoch 11 [Train]:   0%|          | 0/38 [00:00<?, ?it/s]"
      ]
     },
     "metadata": {},
     "output_type": "display_data"
    },
    {
     "data": {
      "application/vnd.jupyter.widget-view+json": {
       "model_id": "7055b0e998bd41b298031715ff8b3302",
       "version_major": 2,
       "version_minor": 0
      },
      "text/plain": [
       "Validation:   0%|          | 0/11 [00:00<?, ?it/s]"
      ]
     },
     "metadata": {},
     "output_type": "display_data"
    },
    {
     "name": "stdout",
     "output_type": "stream",
     "text": [
      "Epoch 11/100 - Train Loss: 1.0790, Val Loss: 1.0342, Train AUROC: 0.6354, Val AUROC: 0.6245\n",
      "Saved best model at epoch 11 with val_loss: 1.0342\n"
     ]
    },
    {
     "data": {
      "application/vnd.jupyter.widget-view+json": {
       "model_id": "b9b9243b71b14941988682de3489ac4b",
       "version_major": 2,
       "version_minor": 0
      },
      "text/plain": [
       "Epoch 12 [Train]:   0%|          | 0/38 [00:00<?, ?it/s]"
      ]
     },
     "metadata": {},
     "output_type": "display_data"
    },
    {
     "data": {
      "application/vnd.jupyter.widget-view+json": {
       "model_id": "2c5fcc9806df466d960d969bcf386d06",
       "version_major": 2,
       "version_minor": 0
      },
      "text/plain": [
       "Validation:   0%|          | 0/11 [00:00<?, ?it/s]"
      ]
     },
     "metadata": {},
     "output_type": "display_data"
    },
    {
     "name": "stdout",
     "output_type": "stream",
     "text": [
      "Epoch 12/100 - Train Loss: 1.0934, Val Loss: 1.0312, Train AUROC: 0.6357, Val AUROC: 0.6635\n",
      "Saved best model at epoch 12 with val_loss: 1.0312\n"
     ]
    },
    {
     "data": {
      "application/vnd.jupyter.widget-view+json": {
       "model_id": "83fdf107c0d3465aaf1abfb680d570c2",
       "version_major": 2,
       "version_minor": 0
      },
      "text/plain": [
       "Epoch 13 [Train]:   0%|          | 0/38 [00:00<?, ?it/s]"
      ]
     },
     "metadata": {},
     "output_type": "display_data"
    },
    {
     "data": {
      "application/vnd.jupyter.widget-view+json": {
       "model_id": "5caefd06df8242a69a7f87580b5aeba1",
       "version_major": 2,
       "version_minor": 0
      },
      "text/plain": [
       "Validation:   0%|          | 0/11 [00:00<?, ?it/s]"
      ]
     },
     "metadata": {},
     "output_type": "display_data"
    },
    {
     "name": "stdout",
     "output_type": "stream",
     "text": [
      "Epoch 13/100 - Train Loss: 1.0678, Val Loss: 1.0098, Train AUROC: 0.6256, Val AUROC: 0.6536\n",
      "Saved best model at epoch 13 with val_loss: 1.0098\n"
     ]
    },
    {
     "data": {
      "application/vnd.jupyter.widget-view+json": {
       "model_id": "6a4dbd81d6e94e51965462d7bfcf9fae",
       "version_major": 2,
       "version_minor": 0
      },
      "text/plain": [
       "Epoch 14 [Train]:   0%|          | 0/38 [00:00<?, ?it/s]"
      ]
     },
     "metadata": {},
     "output_type": "display_data"
    },
    {
     "data": {
      "application/vnd.jupyter.widget-view+json": {
       "model_id": "dac8f1e924144ec0bc0ee2bde2757276",
       "version_major": 2,
       "version_minor": 0
      },
      "text/plain": [
       "Validation:   0%|          | 0/11 [00:00<?, ?it/s]"
      ]
     },
     "metadata": {},
     "output_type": "display_data"
    },
    {
     "name": "stdout",
     "output_type": "stream",
     "text": [
      "Epoch 14/100 - Train Loss: 1.0550, Val Loss: 1.0305, Train AUROC: 0.6453, Val AUROC: 0.6290\n"
     ]
    },
    {
     "data": {
      "application/vnd.jupyter.widget-view+json": {
       "model_id": "50348dcbc9ec434fac0a53b84577e667",
       "version_major": 2,
       "version_minor": 0
      },
      "text/plain": [
       "Epoch 15 [Train]:   0%|          | 0/38 [00:00<?, ?it/s]"
      ]
     },
     "metadata": {},
     "output_type": "display_data"
    },
    {
     "data": {
      "application/vnd.jupyter.widget-view+json": {
       "model_id": "22b9343c526d41a58e75629e1026655e",
       "version_major": 2,
       "version_minor": 0
      },
      "text/plain": [
       "Validation:   0%|          | 0/11 [00:00<?, ?it/s]"
      ]
     },
     "metadata": {},
     "output_type": "display_data"
    },
    {
     "name": "stdout",
     "output_type": "stream",
     "text": [
      "Epoch 15/100 - Train Loss: 1.0565, Val Loss: 1.0327, Train AUROC: 0.6461, Val AUROC: 0.6232\n"
     ]
    },
    {
     "data": {
      "application/vnd.jupyter.widget-view+json": {
       "model_id": "21643b8ffd3b4c22be6bd25369a3a8c0",
       "version_major": 2,
       "version_minor": 0
      },
      "text/plain": [
       "Epoch 16 [Train]:   0%|          | 0/38 [00:00<?, ?it/s]"
      ]
     },
     "metadata": {},
     "output_type": "display_data"
    },
    {
     "data": {
      "application/vnd.jupyter.widget-view+json": {
       "model_id": "9eda8f522adb4ebe94ec7111cbb769d6",
       "version_major": 2,
       "version_minor": 0
      },
      "text/plain": [
       "Validation:   0%|          | 0/11 [00:00<?, ?it/s]"
      ]
     },
     "metadata": {},
     "output_type": "display_data"
    },
    {
     "name": "stdout",
     "output_type": "stream",
     "text": [
      "Epoch 16/100 - Train Loss: 1.0460, Val Loss: 1.0177, Train AUROC: 0.6584, Val AUROC: 0.6479\n"
     ]
    },
    {
     "data": {
      "application/vnd.jupyter.widget-view+json": {
       "model_id": "376e886045194d4781c24a13b4387fbe",
       "version_major": 2,
       "version_minor": 0
      },
      "text/plain": [
       "Epoch 17 [Train]:   0%|          | 0/38 [00:00<?, ?it/s]"
      ]
     },
     "metadata": {},
     "output_type": "display_data"
    },
    {
     "data": {
      "application/vnd.jupyter.widget-view+json": {
       "model_id": "b7707734fe7b4ea6bb36ed3372b6a8bf",
       "version_major": 2,
       "version_minor": 0
      },
      "text/plain": [
       "Validation:   0%|          | 0/11 [00:00<?, ?it/s]"
      ]
     },
     "metadata": {},
     "output_type": "display_data"
    },
    {
     "name": "stdout",
     "output_type": "stream",
     "text": [
      "Epoch 17/100 - Train Loss: 1.0461, Val Loss: 1.0187, Train AUROC: 0.6455, Val AUROC: 0.6381\n"
     ]
    },
    {
     "data": {
      "application/vnd.jupyter.widget-view+json": {
       "model_id": "e699ae1b07ba4e24b6423dfedfe79b54",
       "version_major": 2,
       "version_minor": 0
      },
      "text/plain": [
       "Epoch 18 [Train]:   0%|          | 0/38 [00:00<?, ?it/s]"
      ]
     },
     "metadata": {},
     "output_type": "display_data"
    },
    {
     "data": {
      "application/vnd.jupyter.widget-view+json": {
       "model_id": "bd09b7a7efe2442c98fd3bf61b7758e9",
       "version_major": 2,
       "version_minor": 0
      },
      "text/plain": [
       "Validation:   0%|          | 0/11 [00:00<?, ?it/s]"
      ]
     },
     "metadata": {},
     "output_type": "display_data"
    },
    {
     "name": "stdout",
     "output_type": "stream",
     "text": [
      "Epoch 18/100 - Train Loss: 1.0714, Val Loss: 1.0298, Train AUROC: 0.6224, Val AUROC: 0.6425\n"
     ]
    },
    {
     "data": {
      "application/vnd.jupyter.widget-view+json": {
       "model_id": "320e2b547e484eeeaeb21de6ab85395a",
       "version_major": 2,
       "version_minor": 0
      },
      "text/plain": [
       "Epoch 19 [Train]:   0%|          | 0/38 [00:00<?, ?it/s]"
      ]
     },
     "metadata": {},
     "output_type": "display_data"
    },
    {
     "data": {
      "application/vnd.jupyter.widget-view+json": {
       "model_id": "bb6b6f418714496a9227bf887a1c5b27",
       "version_major": 2,
       "version_minor": 0
      },
      "text/plain": [
       "Validation:   0%|          | 0/11 [00:00<?, ?it/s]"
      ]
     },
     "metadata": {},
     "output_type": "display_data"
    },
    {
     "name": "stdout",
     "output_type": "stream",
     "text": [
      "Epoch 19/100 - Train Loss: 1.0434, Val Loss: 1.0149, Train AUROC: 0.6553, Val AUROC: 0.6344\n"
     ]
    },
    {
     "data": {
      "application/vnd.jupyter.widget-view+json": {
       "model_id": "6cb6c692456f4d949b47e4bbca653dc8",
       "version_major": 2,
       "version_minor": 0
      },
      "text/plain": [
       "Epoch 20 [Train]:   0%|          | 0/38 [00:00<?, ?it/s]"
      ]
     },
     "metadata": {},
     "output_type": "display_data"
    },
    {
     "data": {
      "application/vnd.jupyter.widget-view+json": {
       "model_id": "32496b88c0d743a2afca145008ef55f2",
       "version_major": 2,
       "version_minor": 0
      },
      "text/plain": [
       "Validation:   0%|          | 0/11 [00:00<?, ?it/s]"
      ]
     },
     "metadata": {},
     "output_type": "display_data"
    },
    {
     "name": "stdout",
     "output_type": "stream",
     "text": [
      "Epoch 20/100 - Train Loss: 1.0358, Val Loss: 1.0342, Train AUROC: 0.6456, Val AUROC: 0.6225\n"
     ]
    },
    {
     "data": {
      "application/vnd.jupyter.widget-view+json": {
       "model_id": "dcfbd9f5638f4e299b5c111a50854027",
       "version_major": 2,
       "version_minor": 0
      },
      "text/plain": [
       "Epoch 21 [Train]:   0%|          | 0/38 [00:00<?, ?it/s]"
      ]
     },
     "metadata": {},
     "output_type": "display_data"
    },
    {
     "data": {
      "application/vnd.jupyter.widget-view+json": {
       "model_id": "acf2f156b39b4a0ea4907a0864dd2c0d",
       "version_major": 2,
       "version_minor": 0
      },
      "text/plain": [
       "Validation:   0%|          | 0/11 [00:00<?, ?it/s]"
      ]
     },
     "metadata": {},
     "output_type": "display_data"
    },
    {
     "name": "stdout",
     "output_type": "stream",
     "text": [
      "Epoch 21/100 - Train Loss: 1.0477, Val Loss: 0.9856, Train AUROC: 0.6273, Val AUROC: 0.6268\n",
      "Saved best model at epoch 21 with val_loss: 0.9856\n"
     ]
    },
    {
     "data": {
      "application/vnd.jupyter.widget-view+json": {
       "model_id": "bb6f3d3b9c3c4120b3f80166a65283cf",
       "version_major": 2,
       "version_minor": 0
      },
      "text/plain": [
       "Epoch 22 [Train]:   0%|          | 0/38 [00:00<?, ?it/s]"
      ]
     },
     "metadata": {},
     "output_type": "display_data"
    },
    {
     "data": {
      "application/vnd.jupyter.widget-view+json": {
       "model_id": "cf6cb46d57d9418c9f99c52617f19520",
       "version_major": 2,
       "version_minor": 0
      },
      "text/plain": [
       "Validation:   0%|          | 0/11 [00:00<?, ?it/s]"
      ]
     },
     "metadata": {},
     "output_type": "display_data"
    },
    {
     "name": "stdout",
     "output_type": "stream",
     "text": [
      "Epoch 22/100 - Train Loss: 1.0513, Val Loss: 1.0012, Train AUROC: 0.6206, Val AUROC: 0.6301\n"
     ]
    },
    {
     "data": {
      "application/vnd.jupyter.widget-view+json": {
       "model_id": "422f564dd78d459785032532ac5377b9",
       "version_major": 2,
       "version_minor": 0
      },
      "text/plain": [
       "Epoch 23 [Train]:   0%|          | 0/38 [00:00<?, ?it/s]"
      ]
     },
     "metadata": {},
     "output_type": "display_data"
    },
    {
     "data": {
      "application/vnd.jupyter.widget-view+json": {
       "model_id": "c2a5c64a903c4c4f89f60568f3c2d592",
       "version_major": 2,
       "version_minor": 0
      },
      "text/plain": [
       "Validation:   0%|          | 0/11 [00:00<?, ?it/s]"
      ]
     },
     "metadata": {},
     "output_type": "display_data"
    },
    {
     "name": "stdout",
     "output_type": "stream",
     "text": [
      "Epoch 23/100 - Train Loss: 1.0536, Val Loss: 1.0176, Train AUROC: 0.6470, Val AUROC: 0.6500\n"
     ]
    },
    {
     "data": {
      "application/vnd.jupyter.widget-view+json": {
       "model_id": "957707b734944b028833ff5aabe1b882",
       "version_major": 2,
       "version_minor": 0
      },
      "text/plain": [
       "Epoch 24 [Train]:   0%|          | 0/38 [00:00<?, ?it/s]"
      ]
     },
     "metadata": {},
     "output_type": "display_data"
    },
    {
     "data": {
      "application/vnd.jupyter.widget-view+json": {
       "model_id": "04eaf8a679b2436f9357a3bd3bf8ecc4",
       "version_major": 2,
       "version_minor": 0
      },
      "text/plain": [
       "Validation:   0%|          | 0/11 [00:00<?, ?it/s]"
      ]
     },
     "metadata": {},
     "output_type": "display_data"
    },
    {
     "name": "stdout",
     "output_type": "stream",
     "text": [
      "Epoch 24/100 - Train Loss: 1.0395, Val Loss: 1.0015, Train AUROC: 0.6568, Val AUROC: 0.6477\n"
     ]
    },
    {
     "data": {
      "application/vnd.jupyter.widget-view+json": {
       "model_id": "5940abb9c2204eb1af6423e068820be5",
       "version_major": 2,
       "version_minor": 0
      },
      "text/plain": [
       "Epoch 25 [Train]:   0%|          | 0/38 [00:00<?, ?it/s]"
      ]
     },
     "metadata": {},
     "output_type": "display_data"
    },
    {
     "data": {
      "application/vnd.jupyter.widget-view+json": {
       "model_id": "fc16dfd546cf43299e25ed0eb68d77b5",
       "version_major": 2,
       "version_minor": 0
      },
      "text/plain": [
       "Validation:   0%|          | 0/11 [00:00<?, ?it/s]"
      ]
     },
     "metadata": {},
     "output_type": "display_data"
    },
    {
     "name": "stdout",
     "output_type": "stream",
     "text": [
      "Epoch 25/100 - Train Loss: 1.0517, Val Loss: 1.0303, Train AUROC: 0.6445, Val AUROC: 0.6523\n"
     ]
    },
    {
     "data": {
      "application/vnd.jupyter.widget-view+json": {
       "model_id": "0379063638b94b0391ba6e5200b68ff4",
       "version_major": 2,
       "version_minor": 0
      },
      "text/plain": [
       "Epoch 26 [Train]:   0%|          | 0/38 [00:00<?, ?it/s]"
      ]
     },
     "metadata": {},
     "output_type": "display_data"
    },
    {
     "data": {
      "application/vnd.jupyter.widget-view+json": {
       "model_id": "62a8632fc8274ac9a2ac2858fb580b91",
       "version_major": 2,
       "version_minor": 0
      },
      "text/plain": [
       "Validation:   0%|          | 0/11 [00:00<?, ?it/s]"
      ]
     },
     "metadata": {},
     "output_type": "display_data"
    },
    {
     "name": "stdout",
     "output_type": "stream",
     "text": [
      "Epoch 26/100 - Train Loss: 1.0310, Val Loss: 1.0154, Train AUROC: 0.6313, Val AUROC: 0.6335\n"
     ]
    },
    {
     "data": {
      "application/vnd.jupyter.widget-view+json": {
       "model_id": "e86052b1ed604bc4aeb1029e98fe41d7",
       "version_major": 2,
       "version_minor": 0
      },
      "text/plain": [
       "Epoch 27 [Train]:   0%|          | 0/38 [00:00<?, ?it/s]"
      ]
     },
     "metadata": {},
     "output_type": "display_data"
    },
    {
     "data": {
      "application/vnd.jupyter.widget-view+json": {
       "model_id": "4b2e8ea4da1d4886a96e5fbc249d7cad",
       "version_major": 2,
       "version_minor": 0
      },
      "text/plain": [
       "Validation:   0%|          | 0/11 [00:00<?, ?it/s]"
      ]
     },
     "metadata": {},
     "output_type": "display_data"
    },
    {
     "name": "stdout",
     "output_type": "stream",
     "text": [
      "Epoch 27/100 - Train Loss: 1.0215, Val Loss: 0.9876, Train AUROC: 0.6566, Val AUROC: 0.6350\n"
     ]
    },
    {
     "data": {
      "application/vnd.jupyter.widget-view+json": {
       "model_id": "afb2e8bd040a41468a93d21e8a5352c0",
       "version_major": 2,
       "version_minor": 0
      },
      "text/plain": [
       "Epoch 28 [Train]:   0%|          | 0/38 [00:00<?, ?it/s]"
      ]
     },
     "metadata": {},
     "output_type": "display_data"
    },
    {
     "data": {
      "application/vnd.jupyter.widget-view+json": {
       "model_id": "2517df125667436783ecf911dd22fb44",
       "version_major": 2,
       "version_minor": 0
      },
      "text/plain": [
       "Validation:   0%|          | 0/11 [00:00<?, ?it/s]"
      ]
     },
     "metadata": {},
     "output_type": "display_data"
    },
    {
     "name": "stdout",
     "output_type": "stream",
     "text": [
      "Epoch 28/100 - Train Loss: 1.0168, Val Loss: 1.0195, Train AUROC: 0.6352, Val AUROC: 0.6396\n"
     ]
    },
    {
     "data": {
      "application/vnd.jupyter.widget-view+json": {
       "model_id": "adf4dfbc142842379a8b5cdf2c234bd8",
       "version_major": 2,
       "version_minor": 0
      },
      "text/plain": [
       "Epoch 29 [Train]:   0%|          | 0/38 [00:00<?, ?it/s]"
      ]
     },
     "metadata": {},
     "output_type": "display_data"
    },
    {
     "data": {
      "application/vnd.jupyter.widget-view+json": {
       "model_id": "7e56758453054848998cf618239bdad2",
       "version_major": 2,
       "version_minor": 0
      },
      "text/plain": [
       "Validation:   0%|          | 0/11 [00:00<?, ?it/s]"
      ]
     },
     "metadata": {},
     "output_type": "display_data"
    },
    {
     "name": "stdout",
     "output_type": "stream",
     "text": [
      "Epoch 29/100 - Train Loss: 1.0269, Val Loss: 1.0197, Train AUROC: 0.6426, Val AUROC: 0.6370\n"
     ]
    },
    {
     "data": {
      "application/vnd.jupyter.widget-view+json": {
       "model_id": "85861befb03c42d09f8934ef254fc8b6",
       "version_major": 2,
       "version_minor": 0
      },
      "text/plain": [
       "Epoch 30 [Train]:   0%|          | 0/38 [00:00<?, ?it/s]"
      ]
     },
     "metadata": {},
     "output_type": "display_data"
    },
    {
     "data": {
      "application/vnd.jupyter.widget-view+json": {
       "model_id": "1418a862f14343cbb2421c0a6728db39",
       "version_major": 2,
       "version_minor": 0
      },
      "text/plain": [
       "Validation:   0%|          | 0/11 [00:00<?, ?it/s]"
      ]
     },
     "metadata": {},
     "output_type": "display_data"
    },
    {
     "name": "stdout",
     "output_type": "stream",
     "text": [
      "Epoch 30/100 - Train Loss: 1.0237, Val Loss: 0.9964, Train AUROC: 0.6415, Val AUROC: 0.6289\n"
     ]
    },
    {
     "data": {
      "application/vnd.jupyter.widget-view+json": {
       "model_id": "6dec868d38f54327902b1aae5b89bdac",
       "version_major": 2,
       "version_minor": 0
      },
      "text/plain": [
       "Epoch 31 [Train]:   0%|          | 0/38 [00:00<?, ?it/s]"
      ]
     },
     "metadata": {},
     "output_type": "display_data"
    },
    {
     "data": {
      "application/vnd.jupyter.widget-view+json": {
       "model_id": "c384c07d56604a919169b286f1b3dd84",
       "version_major": 2,
       "version_minor": 0
      },
      "text/plain": [
       "Validation:   0%|          | 0/11 [00:00<?, ?it/s]"
      ]
     },
     "metadata": {},
     "output_type": "display_data"
    },
    {
     "name": "stdout",
     "output_type": "stream",
     "text": [
      "Epoch 31/100 - Train Loss: 1.0288, Val Loss: 0.9974, Train AUROC: 0.6535, Val AUROC: 0.6616\n",
      "Early stopping triggered after 31 epochs\n"
     ]
    },
    {
     "data": {
      "image/png": "[encoded data removed]",
      "text/plain": [
       "<Figure size 1500x1200 with 7 Axes>"
      ]
     },
     "metadata": {},
     "output_type": "display_data"
    }
   ],
   "source": [
    "# Set up TensorBoard\n",
    "from torch.utils.tensorboard import SummaryWriter\n",
    "import datetime\n",
    "\n",
    "def run_experiment(config=None):\n",
    "    \"\"\"\n",
    "    Run a complete training experiment\n",
    "    \n",
    "    Args:\n",
    "        config: Dictionary of configuration parameters\n",
    "        \n",
    "    Returns:\n",
    "        model: Trained model\n",
    "        history: Training history\n",
    "    \"\"\"\n",
    "    if config is None:\n",
    "        config = {\n",
    "            # Model parameters\n",
    "            'latent_dim': 32,\n",
    "            'embed_dim': 16,\n",
    "            'hidden_dim': 64,\n",
    "            'medical_safety': True,\n",
    "            \n",
    "            # Training parameters\n",
    "            'batch_size': 32,\n",
    "            'lr': 1e-3,\n",
    "            'weight_decay': 1e-5,\n",
    "            'n_epochs': 100,\n",
    "            'early_stopping_patience': 10,\n",
    "            \n",
    "            # Loss weights\n",
    "            'beta': 1.0,    # KL weight\n",
    "            'gamma': 0.1,   # Attribute regularization weight\n",
    "            'delta': 0.1,   # Medical safety weight\n",
    "            'lambda_reg': 0.5,  # Group sparsity weight\n",
    "        }\n",
    "    \n",
    "    # Create output directory\n",
    "    timestamp = datetime.datetime.now().strftime(\"%Y%m%d-%H%M%S\")\n",
    "    output_dir = f\"./runs/{timestamp}\"\n",
    "    os.makedirs(output_dir, exist_ok=True)\n",
    "    \n",
    "    # Save configuration\n",
    "    with open(os.path.join(output_dir, 'config.json'), 'w') as f:\n",
    "        json.dump(config, f, indent=4)\n",
    "    \n",
    "    # Create TensorBoard writer\n",
    "    writer = SummaryWriter(output_dir)\n",
    "    \n",
    "    # Create TensorBoard callback\n",
    "    tb_callback = TensorboardCallback(writer)\n",
    "    \n",
    "    # Load data\n",
    "    print(\"Loading data...\")\n",
    "    X_timepoints, y, attributes = load_mi_data()\n",
    "    train_loader, val_loader, test_loader = create_data_loaders(\n",
    "        X_timepoints, y, attributes,\n",
    "        batch_size=config['batch_size']\n",
    "    )\n",
    "    \n",
    "    # Get input dimensions and timepoint names\n",
    "    input_dims = [X.shape[1] for X in X_timepoints.values()]\n",
    "    timepoint_names = list(X_timepoints.keys())\n",
    "    attribute_dims = {attr: i for i, attr in enumerate(attributes.columns)}\n",
    "    \n",
    "    print(f\"Input dimensions: {input_dims}\")\n",
    "    print(f\"Timepoint names: {timepoint_names}\")\n",
    "    print(f\"Attribute dimensions: {attribute_dims}\")\n",
    "    \n",
    "    # Initialize model\n",
    "    print(\"Initializing model...\")\n",
    "    model = GroupInterpretableVAE(\n",
    "        input_dims=input_dims,\n",
    "        timepoint_names=timepoint_names,\n",
    "        latent_dim=config['latent_dim'],\n",
    "        embed_dim=config['embed_dim'],\n",
    "        hidden_dim=config['hidden_dim'],\n",
    "        attribute_dims=attribute_dims,\n",
    "        medical_safety=config['medical_safety']\n",
    "    )\n",
    "    \n",
    "    # Initialize trainer\n",
    "    trainer = GroupInterpretableVAETrainer(\n",
    "        model=model,\n",
    "        train_loader=train_loader,\n",
    "        val_loader=val_loader,\n",
    "        device=device,\n",
    "        lr=config['lr'],\n",
    "        weight_decay=config['weight_decay'],\n",
    "        beta=config['beta'],\n",
    "        gamma=config['gamma'],\n",
    "        delta=config['delta'],\n",
    "        lambda_reg=config['lambda_reg'],\n",
    "        callbacks=[tb_callback]\n",
    "    )\n",
    "    \n",
    "    # Train model\n",
    "    print(\"Training model...\")\n",
    "    history, model = trainer.train(\n",
    "        n_epochs=config['n_epochs'],\n",
    "        early_stopping_patience=config['early_stopping_patience'],\n",
    "        checkpoint_dir=os.path.join(output_dir, 'checkpoints')\n",
    "    )\n",
    "    \n",
    "    # Attach trainer to model for later evaluation\n",
    "    model.trainer = trainer\n",
    "    \n",
    "    # Save final model\n",
    "    torch.save({\n",
    "        'model_state_dict': model.state_dict(),\n",
    "        'model_config': {\n",
    "            'input_dims': input_dims,\n",
    "            'timepoint_names': timepoint_names,\n",
    "            'latent_dim': config['latent_dim'],\n",
    "            'embed_dim': config['embed_dim'],\n",
    "            'hidden_dim': config['hidden_dim'],\n",
    "            'attribute_dims': attribute_dims,\n",
    "            'medical_safety': config['medical_safety']\n",
    "        }\n",
    "    }, os.path.join(output_dir, 'final_model.pt'))\n",
    "    \n",
    "    # Plot training history\n",
    "    plot_training_history(history)\n",
    "    \n",
    "    # Visualize latent space\n",
    "    visualize_latent_space(model, test_loader, device)\n",
    "    \n",
    "    # Visualize group sparsity\n",
    "    visualize_group_sparsity(model)\n",
    "    \n",
    "    # Visualize attribute regularization\n",
    "    visualize_attribute_regularization(model, test_loader, device)\n",
    "    \n",
    "    # Evaluate model on test data\n",
    "    test_metrics = evaluate_model(model, test_loader, device)\n",
    "    \n",
    "    # Save test metrics\n",
    "    with open(os.path.join(output_dir, 'test_metrics.json'), 'w') as f:\n",
    "        # Convert values to float for JSON serialization\n",
    "        test_metrics_json = {k: float(v) for k, v in test_metrics.items()}\n",
    "        json.dump(test_metrics_json, f, indent=4)\n",
    "    \n",
    "    print(f\"Experiment complete. Results saved to {output_dir}\")\n",
    "    print(f\"View TensorBoard with: tensorboard --logdir={output_dir}\")\n",
    "    \n",
    "    return model, history\n",
    "\n",
    "# Run the experiment\n",
    "model, history = run_experiment()"
   ]
  }
 ],
 "metadata": {
  "kernelspec": {
   "display_name": ".venv",
   "language": "python",
   "name": "python3"
  },
  "language_info": {
   "codemirror_mode": {
    "name": "ipython",
    "version": 3
   },
   "file_extension": ".py",
   "mimetype": "text/x-python",
   "name": "python",
   "nbconvert_exporter": "python",
   "pygments_lexer": "ipython3",
   "version": "3.9.6"
  }
 },
 "nbformat": 4,
 "nbformat_minor": 2
}
